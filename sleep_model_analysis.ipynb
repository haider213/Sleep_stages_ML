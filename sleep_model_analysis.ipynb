{
 "cells": [
  {
   "cell_type": "markdown",
   "id": "65026b71-9c3d-48eb-8a33-54f0d9cef4b0",
   "metadata": {},
   "source": [
    "This analysis is to do some exploratory analysis and background for the model of sleep based on acceleroemter and interbeat interval data. \n",
    "\n",
    "The data comes from: https://physionet.org/content/sleep-accel/1.0.0/\n",
    "\n",
    "The paper that compares the models for sleep stage classification is given here: https://github.com/ojwalch/sleep_classifiers/tree/main/data\n",
    "\n"
   ]
  },
  {
   "cell_type": "code",
   "execution_count": 1,
   "id": "3c345328-5f56-4140-a049-d4c38a827cdf",
   "metadata": {
    "tags": []
   },
   "outputs": [],
   "source": [
    "import os\n",
    "import pandas as pd\n",
    "import glob\n",
    "import matplotlib.pyplot as plt\n"
   ]
  },
  {
   "cell_type": "code",
   "execution_count": 2,
   "id": "08b72ab7-b723-4c2e-b15b-2823b4f70582",
   "metadata": {
    "tags": []
   },
   "outputs": [
    {
     "data": {
      "text/plain": [
       "['index.html',\n",
       " '5498603_acceleration.txt',\n",
       " '1360686_acceleration.txt',\n",
       " '2638030_acceleration.txt',\n",
       " '8530312_acceleration.txt',\n",
       " '1066528_acceleration.txt',\n",
       " '5383425_acceleration.txt',\n",
       " '5132496_acceleration.txt',\n",
       " '4314139_acceleration.txt',\n",
       " '781756_acceleration.txt',\n",
       " '8258170_acceleration.txt',\n",
       " '7749105_acceleration.txt',\n",
       " '4426783_acceleration.txt',\n",
       " '.ipynb_checkpoints',\n",
       " '759667_acceleration.txt',\n",
       " '1455390_acceleration.txt',\n",
       " '5797046_acceleration.txt',\n",
       " '8000685_acceleration.txt',\n",
       " '3509524_acceleration.txt',\n",
       " '9961348_acceleration.txt',\n",
       " '2598705_acceleration.txt',\n",
       " '4018081_acceleration.txt',\n",
       " '8692923_acceleration.txt',\n",
       " '9618981_acceleration.txt',\n",
       " '6220552_acceleration.txt',\n",
       " '1818471_acceleration.txt',\n",
       " '8173033_acceleration.txt',\n",
       " '9106476_acceleration.txt',\n",
       " '8686948_acceleration.txt',\n",
       " '844359_acceleration.txt',\n",
       " '46343_acceleration.txt',\n",
       " '1449548_acceleration.txt',\n",
       " '3997827_acceleration.txt']"
      ]
     },
     "execution_count": 2,
     "metadata": {},
     "output_type": "execute_result"
    }
   ],
   "source": [
    "path_to_dataset_accelerometer='/nesi/nobackup/aut03802/dataset_sleep/physionet.org/files/sleep-accel/1.0.0/motion'\n",
    "os.listdir(path_to_dataset_accelerometer)"
   ]
  },
  {
   "cell_type": "code",
   "execution_count": 5,
   "id": "bc10848b-a3d8-4e8d-9cd1-feff8ef1c048",
   "metadata": {
    "tags": []
   },
   "outputs": [
    {
     "name": "stdout",
     "output_type": "stream",
     "text": [
      "Participants in the dataset\n",
      "/nesi/nobackup/aut03802/dataset_sleep/physionet.org/files/sleep-accel/1.0.0/motion/5498603_acceleration.txt\n",
      "Participant_id = 5498603\n",
      "/nesi/nobackup/aut03802/dataset_sleep/physionet.org/files/sleep-accel/1.0.0/motion/1360686_acceleration.txt\n",
      "Participant_id = 1360686\n",
      "/nesi/nobackup/aut03802/dataset_sleep/physionet.org/files/sleep-accel/1.0.0/motion/2638030_acceleration.txt\n",
      "Participant_id = 2638030\n",
      "/nesi/nobackup/aut03802/dataset_sleep/physionet.org/files/sleep-accel/1.0.0/motion/8530312_acceleration.txt\n",
      "Participant_id = 8530312\n",
      "/nesi/nobackup/aut03802/dataset_sleep/physionet.org/files/sleep-accel/1.0.0/motion/1066528_acceleration.txt\n",
      "Participant_id = 1066528\n",
      "/nesi/nobackup/aut03802/dataset_sleep/physionet.org/files/sleep-accel/1.0.0/motion/5383425_acceleration.txt\n",
      "Participant_id = 5383425\n",
      "/nesi/nobackup/aut03802/dataset_sleep/physionet.org/files/sleep-accel/1.0.0/motion/5132496_acceleration.txt\n",
      "Participant_id = 5132496\n",
      "/nesi/nobackup/aut03802/dataset_sleep/physionet.org/files/sleep-accel/1.0.0/motion/4314139_acceleration.txt\n",
      "Participant_id = 4314139\n",
      "/nesi/nobackup/aut03802/dataset_sleep/physionet.org/files/sleep-accel/1.0.0/motion/781756_acceleration.txt\n",
      "Participant_id = 781756\n",
      "/nesi/nobackup/aut03802/dataset_sleep/physionet.org/files/sleep-accel/1.0.0/motion/8258170_acceleration.txt\n",
      "Participant_id = 8258170\n",
      "/nesi/nobackup/aut03802/dataset_sleep/physionet.org/files/sleep-accel/1.0.0/motion/7749105_acceleration.txt\n",
      "Participant_id = 7749105\n",
      "/nesi/nobackup/aut03802/dataset_sleep/physionet.org/files/sleep-accel/1.0.0/motion/4426783_acceleration.txt\n",
      "Participant_id = 4426783\n",
      "/nesi/nobackup/aut03802/dataset_sleep/physionet.org/files/sleep-accel/1.0.0/motion/759667_acceleration.txt\n",
      "Participant_id = 759667\n",
      "/nesi/nobackup/aut03802/dataset_sleep/physionet.org/files/sleep-accel/1.0.0/motion/1455390_acceleration.txt\n",
      "Participant_id = 1455390\n",
      "/nesi/nobackup/aut03802/dataset_sleep/physionet.org/files/sleep-accel/1.0.0/motion/5797046_acceleration.txt\n",
      "Participant_id = 5797046\n",
      "/nesi/nobackup/aut03802/dataset_sleep/physionet.org/files/sleep-accel/1.0.0/motion/8000685_acceleration.txt\n",
      "Participant_id = 8000685\n",
      "/nesi/nobackup/aut03802/dataset_sleep/physionet.org/files/sleep-accel/1.0.0/motion/3509524_acceleration.txt\n",
      "Participant_id = 3509524\n",
      "/nesi/nobackup/aut03802/dataset_sleep/physionet.org/files/sleep-accel/1.0.0/motion/9961348_acceleration.txt\n",
      "Participant_id = 9961348\n",
      "/nesi/nobackup/aut03802/dataset_sleep/physionet.org/files/sleep-accel/1.0.0/motion/2598705_acceleration.txt\n",
      "Participant_id = 2598705\n",
      "/nesi/nobackup/aut03802/dataset_sleep/physionet.org/files/sleep-accel/1.0.0/motion/4018081_acceleration.txt\n",
      "Participant_id = 4018081\n",
      "/nesi/nobackup/aut03802/dataset_sleep/physionet.org/files/sleep-accel/1.0.0/motion/8692923_acceleration.txt\n",
      "Participant_id = 8692923\n",
      "/nesi/nobackup/aut03802/dataset_sleep/physionet.org/files/sleep-accel/1.0.0/motion/9618981_acceleration.txt\n",
      "Participant_id = 9618981\n",
      "/nesi/nobackup/aut03802/dataset_sleep/physionet.org/files/sleep-accel/1.0.0/motion/6220552_acceleration.txt\n",
      "Participant_id = 6220552\n",
      "/nesi/nobackup/aut03802/dataset_sleep/physionet.org/files/sleep-accel/1.0.0/motion/1818471_acceleration.txt\n",
      "Participant_id = 1818471\n",
      "/nesi/nobackup/aut03802/dataset_sleep/physionet.org/files/sleep-accel/1.0.0/motion/8173033_acceleration.txt\n",
      "Participant_id = 8173033\n",
      "/nesi/nobackup/aut03802/dataset_sleep/physionet.org/files/sleep-accel/1.0.0/motion/9106476_acceleration.txt\n",
      "Participant_id = 9106476\n",
      "/nesi/nobackup/aut03802/dataset_sleep/physionet.org/files/sleep-accel/1.0.0/motion/8686948_acceleration.txt\n",
      "Participant_id = 8686948\n",
      "/nesi/nobackup/aut03802/dataset_sleep/physionet.org/files/sleep-accel/1.0.0/motion/844359_acceleration.txt\n",
      "Participant_id = 844359\n",
      "/nesi/nobackup/aut03802/dataset_sleep/physionet.org/files/sleep-accel/1.0.0/motion/46343_acceleration.txt\n",
      "Participant_id = 46343\n",
      "/nesi/nobackup/aut03802/dataset_sleep/physionet.org/files/sleep-accel/1.0.0/motion/1449548_acceleration.txt\n",
      "Participant_id = 1449548\n",
      "/nesi/nobackup/aut03802/dataset_sleep/physionet.org/files/sleep-accel/1.0.0/motion/3997827_acceleration.txt\n",
      "Participant_id = 3997827\n"
     ]
    }
   ],
   "source": [
    "print('Participants in the dataset')\n",
    "for file in glob.glob(path_to_dataset_accelerometer+'/**/*.txt', recursive=True):\n",
    "    print(file)\n",
    "    file_name=file.split('/')[10]\n",
    "    participant_id=file_name.split('_')[0]\n",
    "    print(f'Participant_id = {participant_id}')"
   ]
  },
  {
   "cell_type": "code",
   "execution_count": 6,
   "id": "57def2c9-4c75-4334-b5f0-591a8d0b192c",
   "metadata": {
    "tags": []
   },
   "outputs": [
    {
     "data": {
      "text/plain": [
       "['9106476_heartrate.txt',\n",
       " 'index.html',\n",
       " '2598705_heartrate.txt',\n",
       " '9618981_heartrate.txt',\n",
       " '2638030_heartrate.txt',\n",
       " '6220552_heartrate.txt',\n",
       " '7749105_heartrate.txt',\n",
       " '46343_heartrate.txt',\n",
       " '5797046_heartrate.txt',\n",
       " '.ipynb_checkpoints',\n",
       " '1455390_heartrate.txt',\n",
       " '5498603_heartrate.txt',\n",
       " '3997827_heartrate.txt',\n",
       " '3509524_heartrate.txt',\n",
       " '1818471_heartrate.txt',\n",
       " '4426783_heartrate.txt',\n",
       " '8530312_heartrate.txt',\n",
       " '781756_heartrate.txt',\n",
       " '5383425_heartrate.txt',\n",
       " '8686948_heartrate.txt',\n",
       " '5132496_heartrate.txt',\n",
       " '8258170_heartrate.txt',\n",
       " '1066528_heartrate.txt',\n",
       " '8173033_heartrate.txt',\n",
       " '4018081_heartrate.txt',\n",
       " '8692923_heartrate.txt',\n",
       " '844359_heartrate.txt',\n",
       " '1360686_heartrate.txt',\n",
       " '8000685_heartrate.txt',\n",
       " '9961348_heartrate.txt',\n",
       " '4314139_heartrate.txt',\n",
       " '759667_heartrate.txt',\n",
       " '1449548_heartrate.txt']"
      ]
     },
     "execution_count": 6,
     "metadata": {},
     "output_type": "execute_result"
    }
   ],
   "source": [
    "path_to_dataset_ibi='/nesi/nobackup/aut03802/dataset_sleep/physionet.org/files/sleep-accel/1.0.0/heart_rate'\n",
    "os.listdir(path_to_dataset_ibi)"
   ]
  },
  {
   "cell_type": "code",
   "execution_count": 7,
   "id": "8ca40f91-c244-43c0-a1c4-8eaeb37a168b",
   "metadata": {
    "tags": []
   },
   "outputs": [
    {
     "name": "stdout",
     "output_type": "stream",
     "text": [
      "Participants in the dataset\n",
      "/nesi/nobackup/aut03802/dataset_sleep/physionet.org/files/sleep-accel/1.0.0/heart_rate/9106476_heartrate.txt\n",
      "Participant_id = 9106476\n",
      "/nesi/nobackup/aut03802/dataset_sleep/physionet.org/files/sleep-accel/1.0.0/heart_rate/2598705_heartrate.txt\n",
      "Participant_id = 2598705\n",
      "/nesi/nobackup/aut03802/dataset_sleep/physionet.org/files/sleep-accel/1.0.0/heart_rate/9618981_heartrate.txt\n",
      "Participant_id = 9618981\n",
      "/nesi/nobackup/aut03802/dataset_sleep/physionet.org/files/sleep-accel/1.0.0/heart_rate/2638030_heartrate.txt\n",
      "Participant_id = 2638030\n",
      "/nesi/nobackup/aut03802/dataset_sleep/physionet.org/files/sleep-accel/1.0.0/heart_rate/6220552_heartrate.txt\n",
      "Participant_id = 6220552\n",
      "/nesi/nobackup/aut03802/dataset_sleep/physionet.org/files/sleep-accel/1.0.0/heart_rate/7749105_heartrate.txt\n",
      "Participant_id = 7749105\n",
      "/nesi/nobackup/aut03802/dataset_sleep/physionet.org/files/sleep-accel/1.0.0/heart_rate/46343_heartrate.txt\n",
      "Participant_id = 46343\n",
      "/nesi/nobackup/aut03802/dataset_sleep/physionet.org/files/sleep-accel/1.0.0/heart_rate/5797046_heartrate.txt\n",
      "Participant_id = 5797046\n",
      "/nesi/nobackup/aut03802/dataset_sleep/physionet.org/files/sleep-accel/1.0.0/heart_rate/1455390_heartrate.txt\n",
      "Participant_id = 1455390\n",
      "/nesi/nobackup/aut03802/dataset_sleep/physionet.org/files/sleep-accel/1.0.0/heart_rate/5498603_heartrate.txt\n",
      "Participant_id = 5498603\n",
      "/nesi/nobackup/aut03802/dataset_sleep/physionet.org/files/sleep-accel/1.0.0/heart_rate/3997827_heartrate.txt\n",
      "Participant_id = 3997827\n",
      "/nesi/nobackup/aut03802/dataset_sleep/physionet.org/files/sleep-accel/1.0.0/heart_rate/3509524_heartrate.txt\n",
      "Participant_id = 3509524\n",
      "/nesi/nobackup/aut03802/dataset_sleep/physionet.org/files/sleep-accel/1.0.0/heart_rate/1818471_heartrate.txt\n",
      "Participant_id = 1818471\n",
      "/nesi/nobackup/aut03802/dataset_sleep/physionet.org/files/sleep-accel/1.0.0/heart_rate/4426783_heartrate.txt\n",
      "Participant_id = 4426783\n",
      "/nesi/nobackup/aut03802/dataset_sleep/physionet.org/files/sleep-accel/1.0.0/heart_rate/8530312_heartrate.txt\n",
      "Participant_id = 8530312\n",
      "/nesi/nobackup/aut03802/dataset_sleep/physionet.org/files/sleep-accel/1.0.0/heart_rate/781756_heartrate.txt\n",
      "Participant_id = 781756\n",
      "/nesi/nobackup/aut03802/dataset_sleep/physionet.org/files/sleep-accel/1.0.0/heart_rate/5383425_heartrate.txt\n",
      "Participant_id = 5383425\n",
      "/nesi/nobackup/aut03802/dataset_sleep/physionet.org/files/sleep-accel/1.0.0/heart_rate/8686948_heartrate.txt\n",
      "Participant_id = 8686948\n",
      "/nesi/nobackup/aut03802/dataset_sleep/physionet.org/files/sleep-accel/1.0.0/heart_rate/5132496_heartrate.txt\n",
      "Participant_id = 5132496\n",
      "/nesi/nobackup/aut03802/dataset_sleep/physionet.org/files/sleep-accel/1.0.0/heart_rate/8258170_heartrate.txt\n",
      "Participant_id = 8258170\n",
      "/nesi/nobackup/aut03802/dataset_sleep/physionet.org/files/sleep-accel/1.0.0/heart_rate/1066528_heartrate.txt\n",
      "Participant_id = 1066528\n",
      "/nesi/nobackup/aut03802/dataset_sleep/physionet.org/files/sleep-accel/1.0.0/heart_rate/8173033_heartrate.txt\n",
      "Participant_id = 8173033\n",
      "/nesi/nobackup/aut03802/dataset_sleep/physionet.org/files/sleep-accel/1.0.0/heart_rate/4018081_heartrate.txt\n",
      "Participant_id = 4018081\n",
      "/nesi/nobackup/aut03802/dataset_sleep/physionet.org/files/sleep-accel/1.0.0/heart_rate/8692923_heartrate.txt\n",
      "Participant_id = 8692923\n",
      "/nesi/nobackup/aut03802/dataset_sleep/physionet.org/files/sleep-accel/1.0.0/heart_rate/844359_heartrate.txt\n",
      "Participant_id = 844359\n",
      "/nesi/nobackup/aut03802/dataset_sleep/physionet.org/files/sleep-accel/1.0.0/heart_rate/1360686_heartrate.txt\n",
      "Participant_id = 1360686\n",
      "/nesi/nobackup/aut03802/dataset_sleep/physionet.org/files/sleep-accel/1.0.0/heart_rate/8000685_heartrate.txt\n",
      "Participant_id = 8000685\n",
      "/nesi/nobackup/aut03802/dataset_sleep/physionet.org/files/sleep-accel/1.0.0/heart_rate/9961348_heartrate.txt\n",
      "Participant_id = 9961348\n",
      "/nesi/nobackup/aut03802/dataset_sleep/physionet.org/files/sleep-accel/1.0.0/heart_rate/4314139_heartrate.txt\n",
      "Participant_id = 4314139\n",
      "/nesi/nobackup/aut03802/dataset_sleep/physionet.org/files/sleep-accel/1.0.0/heart_rate/759667_heartrate.txt\n",
      "Participant_id = 759667\n",
      "/nesi/nobackup/aut03802/dataset_sleep/physionet.org/files/sleep-accel/1.0.0/heart_rate/1449548_heartrate.txt\n",
      "Participant_id = 1449548\n"
     ]
    }
   ],
   "source": [
    "print('Participants in the dataset')\n",
    "for file in glob.glob(path_to_dataset_ibi+'/**/*.txt', recursive=True):\n",
    "    print(file)\n",
    "    file_name=file.split('/')[10]\n",
    "    participant_id=file_name.split('_')[0]\n",
    "    print(f'Participant_id = {participant_id}')"
   ]
  },
  {
   "cell_type": "code",
   "execution_count": 8,
   "id": "4fa3949d-7023-433e-814e-d4a388f41f0b",
   "metadata": {
    "tags": []
   },
   "outputs": [
    {
     "data": {
      "text/plain": [
       "['index.html',\n",
       " '2638030_labeled_sleep.txt',\n",
       " '4018081_labeled_sleep.txt',\n",
       " '8173033_labeled_sleep.txt',\n",
       " '8258170_labeled_sleep.txt',\n",
       " '1455390_labeled_sleep.txt',\n",
       " '.ipynb_checkpoints',\n",
       " '1066528_labeled_sleep.txt',\n",
       " '1449548_labeled_sleep.txt',\n",
       " '9618981_labeled_sleep.txt',\n",
       " '8692923_labeled_sleep.txt',\n",
       " '759667_labeled_sleep.txt',\n",
       " '9961348_labeled_sleep.txt',\n",
       " '46343_labeled_sleep.txt',\n",
       " '7749105_labeled_sleep.txt',\n",
       " '1360686_labeled_sleep.txt',\n",
       " '8686948_labeled_sleep.txt',\n",
       " '3997827_labeled_sleep.txt',\n",
       " '844359_labeled_sleep.txt',\n",
       " '4314139_labeled_sleep.txt',\n",
       " '4426783_labeled_sleep.txt',\n",
       " '8000685_labeled_sleep.txt',\n",
       " '781756_labeled_sleep.txt',\n",
       " '5498603_labeled_sleep.txt',\n",
       " '3509524_labeled_sleep.txt',\n",
       " '8530312_labeled_sleep.txt',\n",
       " '5797046_labeled_sleep.txt',\n",
       " '5132496_labeled_sleep.txt',\n",
       " '6220552_labeled_sleep.txt',\n",
       " '1818471_labeled_sleep.txt',\n",
       " '9106476_labeled_sleep.txt',\n",
       " '2598705_labeled_sleep.txt',\n",
       " '5383425_labeled_sleep.txt']"
      ]
     },
     "execution_count": 8,
     "metadata": {},
     "output_type": "execute_result"
    }
   ],
   "source": [
    "path_to_dataset_labels='/nesi/nobackup/aut03802/dataset_sleep/physionet.org/files/sleep-accel/1.0.0/labels'\n",
    "os.listdir(path_to_dataset_labels)"
   ]
  },
  {
   "cell_type": "code",
   "execution_count": 9,
   "id": "dbe84ea8-f254-4023-98d5-f4b7c380d1cc",
   "metadata": {
    "tags": []
   },
   "outputs": [
    {
     "name": "stdout",
     "output_type": "stream",
     "text": [
      "Participants in the dataset\n",
      "/nesi/nobackup/aut03802/dataset_sleep/physionet.org/files/sleep-accel/1.0.0/labels/2638030_labeled_sleep.txt\n",
      "Participant_id = 2638030\n",
      "/nesi/nobackup/aut03802/dataset_sleep/physionet.org/files/sleep-accel/1.0.0/labels/4018081_labeled_sleep.txt\n",
      "Participant_id = 4018081\n",
      "/nesi/nobackup/aut03802/dataset_sleep/physionet.org/files/sleep-accel/1.0.0/labels/8173033_labeled_sleep.txt\n",
      "Participant_id = 8173033\n",
      "/nesi/nobackup/aut03802/dataset_sleep/physionet.org/files/sleep-accel/1.0.0/labels/8258170_labeled_sleep.txt\n",
      "Participant_id = 8258170\n",
      "/nesi/nobackup/aut03802/dataset_sleep/physionet.org/files/sleep-accel/1.0.0/labels/1455390_labeled_sleep.txt\n",
      "Participant_id = 1455390\n",
      "/nesi/nobackup/aut03802/dataset_sleep/physionet.org/files/sleep-accel/1.0.0/labels/1066528_labeled_sleep.txt\n",
      "Participant_id = 1066528\n",
      "/nesi/nobackup/aut03802/dataset_sleep/physionet.org/files/sleep-accel/1.0.0/labels/1449548_labeled_sleep.txt\n",
      "Participant_id = 1449548\n",
      "/nesi/nobackup/aut03802/dataset_sleep/physionet.org/files/sleep-accel/1.0.0/labels/9618981_labeled_sleep.txt\n",
      "Participant_id = 9618981\n",
      "/nesi/nobackup/aut03802/dataset_sleep/physionet.org/files/sleep-accel/1.0.0/labels/8692923_labeled_sleep.txt\n",
      "Participant_id = 8692923\n",
      "/nesi/nobackup/aut03802/dataset_sleep/physionet.org/files/sleep-accel/1.0.0/labels/759667_labeled_sleep.txt\n",
      "Participant_id = 759667\n",
      "/nesi/nobackup/aut03802/dataset_sleep/physionet.org/files/sleep-accel/1.0.0/labels/9961348_labeled_sleep.txt\n",
      "Participant_id = 9961348\n",
      "/nesi/nobackup/aut03802/dataset_sleep/physionet.org/files/sleep-accel/1.0.0/labels/46343_labeled_sleep.txt\n",
      "Participant_id = 46343\n",
      "/nesi/nobackup/aut03802/dataset_sleep/physionet.org/files/sleep-accel/1.0.0/labels/7749105_labeled_sleep.txt\n",
      "Participant_id = 7749105\n",
      "/nesi/nobackup/aut03802/dataset_sleep/physionet.org/files/sleep-accel/1.0.0/labels/1360686_labeled_sleep.txt\n",
      "Participant_id = 1360686\n",
      "/nesi/nobackup/aut03802/dataset_sleep/physionet.org/files/sleep-accel/1.0.0/labels/8686948_labeled_sleep.txt\n",
      "Participant_id = 8686948\n",
      "/nesi/nobackup/aut03802/dataset_sleep/physionet.org/files/sleep-accel/1.0.0/labels/3997827_labeled_sleep.txt\n",
      "Participant_id = 3997827\n",
      "/nesi/nobackup/aut03802/dataset_sleep/physionet.org/files/sleep-accel/1.0.0/labels/844359_labeled_sleep.txt\n",
      "Participant_id = 844359\n",
      "/nesi/nobackup/aut03802/dataset_sleep/physionet.org/files/sleep-accel/1.0.0/labels/4314139_labeled_sleep.txt\n",
      "Participant_id = 4314139\n",
      "/nesi/nobackup/aut03802/dataset_sleep/physionet.org/files/sleep-accel/1.0.0/labels/4426783_labeled_sleep.txt\n",
      "Participant_id = 4426783\n",
      "/nesi/nobackup/aut03802/dataset_sleep/physionet.org/files/sleep-accel/1.0.0/labels/8000685_labeled_sleep.txt\n",
      "Participant_id = 8000685\n",
      "/nesi/nobackup/aut03802/dataset_sleep/physionet.org/files/sleep-accel/1.0.0/labels/781756_labeled_sleep.txt\n",
      "Participant_id = 781756\n",
      "/nesi/nobackup/aut03802/dataset_sleep/physionet.org/files/sleep-accel/1.0.0/labels/5498603_labeled_sleep.txt\n",
      "Participant_id = 5498603\n",
      "/nesi/nobackup/aut03802/dataset_sleep/physionet.org/files/sleep-accel/1.0.0/labels/3509524_labeled_sleep.txt\n",
      "Participant_id = 3509524\n",
      "/nesi/nobackup/aut03802/dataset_sleep/physionet.org/files/sleep-accel/1.0.0/labels/8530312_labeled_sleep.txt\n",
      "Participant_id = 8530312\n",
      "/nesi/nobackup/aut03802/dataset_sleep/physionet.org/files/sleep-accel/1.0.0/labels/5797046_labeled_sleep.txt\n",
      "Participant_id = 5797046\n",
      "/nesi/nobackup/aut03802/dataset_sleep/physionet.org/files/sleep-accel/1.0.0/labels/5132496_labeled_sleep.txt\n",
      "Participant_id = 5132496\n",
      "/nesi/nobackup/aut03802/dataset_sleep/physionet.org/files/sleep-accel/1.0.0/labels/6220552_labeled_sleep.txt\n",
      "Participant_id = 6220552\n",
      "/nesi/nobackup/aut03802/dataset_sleep/physionet.org/files/sleep-accel/1.0.0/labels/1818471_labeled_sleep.txt\n",
      "Participant_id = 1818471\n",
      "/nesi/nobackup/aut03802/dataset_sleep/physionet.org/files/sleep-accel/1.0.0/labels/9106476_labeled_sleep.txt\n",
      "Participant_id = 9106476\n",
      "/nesi/nobackup/aut03802/dataset_sleep/physionet.org/files/sleep-accel/1.0.0/labels/2598705_labeled_sleep.txt\n",
      "Participant_id = 2598705\n",
      "/nesi/nobackup/aut03802/dataset_sleep/physionet.org/files/sleep-accel/1.0.0/labels/5383425_labeled_sleep.txt\n",
      "Participant_id = 5383425\n"
     ]
    }
   ],
   "source": [
    "print('Participants in the dataset')\n",
    "for file in glob.glob(path_to_dataset_labels+'/**/*.txt', recursive=True):\n",
    "    print(file)\n",
    "    file_name=file.split('/')[10]\n",
    "    participant_id=file_name.split('_')[0]\n",
    "    print(f'Participant_id = {participant_id}')"
   ]
  },
  {
   "cell_type": "markdown",
   "id": "8bf2ced8-9319-4e52-8cbc-985bc520896d",
   "metadata": {},
   "source": [
    "# Reading one of the files"
   ]
  },
  {
   "cell_type": "code",
   "execution_count": 25,
   "id": "518b24af-d57a-4a4e-bf14-55147496ee82",
   "metadata": {
    "tags": []
   },
   "outputs": [],
   "source": [
    "path_to_5498603_acc = '/nesi/nobackup/aut03802/dataset_sleep/physionet.org/files/sleep-accel/1.0.0/motion/8000685_acceleration.txt'\n",
    "participant_5498603_acc=pd.read_csv(path_to_5498603_acc,sep=' ')"
   ]
  },
  {
   "cell_type": "code",
   "execution_count": 26,
   "id": "5b10c6aa-dc7a-42fc-9c58-14aa0ea427ce",
   "metadata": {
    "tags": []
   },
   "outputs": [],
   "source": [
    "participant_5498603_acc.columns=['time_to_sleep','ax','ay','az']"
   ]
  },
  {
   "cell_type": "code",
   "execution_count": 27,
   "id": "dc4ff953-8938-40b0-ad46-24c5818691d3",
   "metadata": {
    "tags": []
   },
   "outputs": [],
   "source": [
    "participant_5498603_acc=participant_5498603_acc[participant_5498603_acc['time_to_sleep']>=0]"
   ]
  },
  {
   "cell_type": "code",
   "execution_count": 13,
   "id": "afeca9f1-b679-48f6-83fd-fcd432123426",
   "metadata": {
    "tags": []
   },
   "outputs": [
    {
     "data": {
      "image/png": "[encoded data removed]",
      "text/plain": [
       "<Figure size 432x288 with 1 Axes>"
      ]
     },
     "metadata": {
      "needs_background": "light"
     },
     "output_type": "display_data"
    }
   ],
   "source": [
    "plt.plot(participant_5498603_acc['time_to_sleep'],participant_5498603_acc['ax'],label='ax')\n",
    "plt.plot(participant_5498603_acc['time_to_sleep'],participant_5498603_acc['ay'],label='ay')\n",
    "plt.plot(participant_5498603_acc['time_to_sleep'],participant_5498603_acc['az'],label='az')\n",
    "plt.xlabel('time_asleep(s)')\n",
    "plt.ylabel('a in g)')\n",
    "plt.legend()\n",
    "plt.show()\n",
    "           "
   ]
  },
  {
   "cell_type": "code",
   "execution_count": 23,
   "id": "059af009-fdb9-4ff5-925e-902bf6402813",
   "metadata": {
    "tags": []
   },
   "outputs": [],
   "source": [
    "path_to_5498603_ibi = '/nesi/nobackup/aut03802/dataset_sleep/physionet.org/files/sleep-accel/1.0.0/heart_rate/8000685_heartrate.txt'\n",
    "participant_5498603_ibi=pd.read_csv(path_to_5498603_ibi,sep=',')"
   ]
  },
  {
   "cell_type": "code",
   "execution_count": 24,
   "id": "d2d2fc66-0381-4a30-b10f-15dfe91adff7",
   "metadata": {
    "tags": []
   },
   "outputs": [],
   "source": [
    "participant_5498603_ibi.columns = ['time_to_sleep','ibi']"
   ]
  },
  {
   "cell_type": "code",
   "execution_count": 28,
   "id": "b3167078-edac-4bcb-969e-08fd6fa44d7c",
   "metadata": {
    "tags": []
   },
   "outputs": [],
   "source": [
    "participant_5498603_ibi=participant_5498603_ibi[participant_5498603_ibi['time_to_sleep']>=0]"
   ]
  },
  {
   "cell_type": "code",
   "execution_count": 15,
   "id": "d5127af3-e518-4b27-9f6e-98c1ae46d22b",
   "metadata": {
    "tags": []
   },
   "outputs": [
    {
     "data": {
      "text/html": [
       "<div>\n",
       "<style scoped>\n",
       "    .dataframe tbody tr th:only-of-type {\n",
       "        vertical-align: middle;\n",
       "    }\n",
       "\n",
       "    .dataframe tbody tr th {\n",
       "        vertical-align: top;\n",
       "    }\n",
       "\n",
       "    .dataframe thead th {\n",
       "        text-align: right;\n",
       "    }\n",
       "</style>\n",
       "<table border=\"1\" class=\"dataframe\">\n",
       "  <thead>\n",
       "    <tr style=\"text-align: right;\">\n",
       "      <th></th>\n",
       "      <th>time_to_sleep</th>\n",
       "      <th>ibi</th>\n",
       "    </tr>\n",
       "  </thead>\n",
       "  <tbody>\n",
       "    <tr>\n",
       "      <th>1244</th>\n",
       "      <td>5.16105</td>\n",
       "      <td>77</td>\n",
       "    </tr>\n",
       "    <tr>\n",
       "      <th>1245</th>\n",
       "      <td>10.16105</td>\n",
       "      <td>77</td>\n",
       "    </tr>\n",
       "    <tr>\n",
       "      <th>1246</th>\n",
       "      <td>11.16105</td>\n",
       "      <td>78</td>\n",
       "    </tr>\n",
       "    <tr>\n",
       "      <th>1247</th>\n",
       "      <td>20.16102</td>\n",
       "      <td>78</td>\n",
       "    </tr>\n",
       "    <tr>\n",
       "      <th>1248</th>\n",
       "      <td>25.16105</td>\n",
       "      <td>76</td>\n",
       "    </tr>\n",
       "    <tr>\n",
       "      <th>...</th>\n",
       "      <td>...</td>\n",
       "      <td>...</td>\n",
       "    </tr>\n",
       "    <tr>\n",
       "      <th>7031</th>\n",
       "      <td>30031.15763</td>\n",
       "      <td>100</td>\n",
       "    </tr>\n",
       "    <tr>\n",
       "      <th>7032</th>\n",
       "      <td>30033.15763</td>\n",
       "      <td>100</td>\n",
       "    </tr>\n",
       "    <tr>\n",
       "      <th>7033</th>\n",
       "      <td>30039.15763</td>\n",
       "      <td>100</td>\n",
       "    </tr>\n",
       "    <tr>\n",
       "      <th>7034</th>\n",
       "      <td>30048.15763</td>\n",
       "      <td>104</td>\n",
       "    </tr>\n",
       "    <tr>\n",
       "      <th>7035</th>\n",
       "      <td>30052.15763</td>\n",
       "      <td>104</td>\n",
       "    </tr>\n",
       "  </tbody>\n",
       "</table>\n",
       "<p>5792 rows × 2 columns</p>\n",
       "</div>"
      ],
      "text/plain": [
       "      time_to_sleep  ibi\n",
       "1244        5.16105   77\n",
       "1245       10.16105   77\n",
       "1246       11.16105   78\n",
       "1247       20.16102   78\n",
       "1248       25.16105   76\n",
       "...             ...  ...\n",
       "7031    30031.15763  100\n",
       "7032    30033.15763  100\n",
       "7033    30039.15763  100\n",
       "7034    30048.15763  104\n",
       "7035    30052.15763  104\n",
       "\n",
       "[5792 rows x 2 columns]"
      ]
     },
     "execution_count": 15,
     "metadata": {},
     "output_type": "execute_result"
    }
   ],
   "source": [
    "participant_5498603_ibi"
   ]
  },
  {
   "cell_type": "code",
   "execution_count": 29,
   "id": "3d601d9c-5136-438c-b8ff-643cfd07198d",
   "metadata": {
    "tags": []
   },
   "outputs": [
    {
     "name": "stderr",
     "output_type": "stream",
     "text": [
      "/dev/shm/jobs/46274014/ipykernel_11537/2102774670.py:8: SettingWithCopyWarning: \n",
      "A value is trying to be set on a copy of a slice from a DataFrame.\n",
      "Try using .loc[row_indexer,col_indexer] = value instead\n",
      "\n",
      "See the caveats in the documentation: https://pandas.pydata.org/pandas-docs/stable/user_guide/indexing.html#returning-a-view-versus-a-copy\n",
      "  df_accx[\"marker\"] = \"ax\"\n",
      "/dev/shm/jobs/46274014/ipykernel_11537/2102774670.py:10: FutureWarning: The frame.append method is deprecated and will be removed from pandas in a future version. Use pandas.concat instead.\n",
      "  df_participant =participant_5498603_ibi.append(df_accx)\n",
      "/dev/shm/jobs/46274014/ipykernel_11537/2102774670.py:12: SettingWithCopyWarning: \n",
      "A value is trying to be set on a copy of a slice from a DataFrame.\n",
      "Try using .loc[row_indexer,col_indexer] = value instead\n",
      "\n",
      "See the caveats in the documentation: https://pandas.pydata.org/pandas-docs/stable/user_guide/indexing.html#returning-a-view-versus-a-copy\n",
      "  df_accy[\"marker\"] = \"ay\"\n",
      "/dev/shm/jobs/46274014/ipykernel_11537/2102774670.py:14: FutureWarning: The frame.append method is deprecated and will be removed from pandas in a future version. Use pandas.concat instead.\n",
      "  df_participant =df_participant.append(df_accy)\n",
      "/dev/shm/jobs/46274014/ipykernel_11537/2102774670.py:18: FutureWarning: The frame.append method is deprecated and will be removed from pandas in a future version. Use pandas.concat instead.\n",
      "  df_participant =df_participant.append(df_accy)\n"
     ]
    }
   ],
   "source": [
    "\n",
    "participant_5498603_ibi[\"marker\"] = \"ibi\"\n",
    "#participant_5498603_ibi[\"participant\"] = \"5498603\"\n",
    "\n",
    "participant_5498603_ibi = participant_5498603_ibi.rename(columns={'ibi': \"value\"})\n",
    "#df_particpant_p=pd.DataFrame(columns=['marker','value'])\n",
    "\n",
    "df_accx=participant_5498603_acc[['time_to_sleep', 'ax']]\n",
    "df_accx[\"marker\"] = \"ax\"\n",
    "df_accx = df_accx.rename(columns={'ax': \"value\"})\n",
    "df_participant =participant_5498603_ibi.append(df_accx)\n",
    "df_accy=participant_5498603_acc[['time_to_sleep', 'ay']]\n",
    "df_accy[\"marker\"] = \"ay\"\n",
    "df_accy = df_accy.rename(columns={'ay': \"value\"})\n",
    "df_participant =df_participant.append(df_accy)\n",
    "df_accz=participant_5498603_acc[['time_to_sleep', 'az']]\n",
    "df_accy[\"marker\"] = \"az\"\n",
    "df_accz = df_accz.rename(columns={'az': \"value\"})\n",
    "df_participant =df_participant.append(df_accy)\n",
    "df_participant[\"participant\"]=\"5498603\"\n",
    "\n",
    "\n",
    "\n",
    "       \n",
    "\n"
   ]
  },
  {
   "cell_type": "code",
   "execution_count": 30,
   "id": "10b049d0-1e12-4fd3-8c69-19dcc3dd017e",
   "metadata": {
    "tags": []
   },
   "outputs": [
    {
     "data": {
      "text/html": [
       "<div>\n",
       "<style scoped>\n",
       "    .dataframe tbody tr th:only-of-type {\n",
       "        vertical-align: middle;\n",
       "    }\n",
       "\n",
       "    .dataframe tbody tr th {\n",
       "        vertical-align: top;\n",
       "    }\n",
       "\n",
       "    .dataframe thead th {\n",
       "        text-align: right;\n",
       "    }\n",
       "</style>\n",
       "<table border=\"1\" class=\"dataframe\">\n",
       "  <thead>\n",
       "    <tr style=\"text-align: right;\">\n",
       "      <th></th>\n",
       "      <th>time_to_sleep</th>\n",
       "      <th>value</th>\n",
       "      <th>marker</th>\n",
       "      <th>participant</th>\n",
       "    </tr>\n",
       "  </thead>\n",
       "  <tbody>\n",
       "    <tr>\n",
       "      <th>1244</th>\n",
       "      <td>5.161050</td>\n",
       "      <td>77.000000</td>\n",
       "      <td>ibi</td>\n",
       "      <td>5498603</td>\n",
       "    </tr>\n",
       "    <tr>\n",
       "      <th>1245</th>\n",
       "      <td>10.161050</td>\n",
       "      <td>77.000000</td>\n",
       "      <td>ibi</td>\n",
       "      <td>5498603</td>\n",
       "    </tr>\n",
       "    <tr>\n",
       "      <th>1246</th>\n",
       "      <td>11.161050</td>\n",
       "      <td>78.000000</td>\n",
       "      <td>ibi</td>\n",
       "      <td>5498603</td>\n",
       "    </tr>\n",
       "    <tr>\n",
       "      <th>1247</th>\n",
       "      <td>20.161020</td>\n",
       "      <td>78.000000</td>\n",
       "      <td>ibi</td>\n",
       "      <td>5498603</td>\n",
       "    </tr>\n",
       "    <tr>\n",
       "      <th>1248</th>\n",
       "      <td>25.161050</td>\n",
       "      <td>76.000000</td>\n",
       "      <td>ibi</td>\n",
       "      <td>5498603</td>\n",
       "    </tr>\n",
       "    <tr>\n",
       "      <th>...</th>\n",
       "      <td>...</td>\n",
       "      <td>...</td>\n",
       "      <td>...</td>\n",
       "      <td>...</td>\n",
       "    </tr>\n",
       "    <tr>\n",
       "      <th>1654286</th>\n",
       "      <td>30394.892956</td>\n",
       "      <td>0.020187</td>\n",
       "      <td>az</td>\n",
       "      <td>5498603</td>\n",
       "    </tr>\n",
       "    <tr>\n",
       "      <th>1654287</th>\n",
       "      <td>30394.912894</td>\n",
       "      <td>0.019684</td>\n",
       "      <td>az</td>\n",
       "      <td>5498603</td>\n",
       "    </tr>\n",
       "    <tr>\n",
       "      <th>1654288</th>\n",
       "      <td>30394.932836</td>\n",
       "      <td>0.021667</td>\n",
       "      <td>az</td>\n",
       "      <td>5498603</td>\n",
       "    </tr>\n",
       "    <tr>\n",
       "      <th>1654289</th>\n",
       "      <td>30394.952839</td>\n",
       "      <td>0.019699</td>\n",
       "      <td>az</td>\n",
       "      <td>5498603</td>\n",
       "    </tr>\n",
       "    <tr>\n",
       "      <th>1654290</th>\n",
       "      <td>30394.972818</td>\n",
       "      <td>0.018707</td>\n",
       "      <td>az</td>\n",
       "      <td>5498603</td>\n",
       "    </tr>\n",
       "  </tbody>\n",
       "</table>\n",
       "<p>4508927 rows × 4 columns</p>\n",
       "</div>"
      ],
      "text/plain": [
       "         time_to_sleep      value marker participant\n",
       "1244          5.161050  77.000000    ibi     5498603\n",
       "1245         10.161050  77.000000    ibi     5498603\n",
       "1246         11.161050  78.000000    ibi     5498603\n",
       "1247         20.161020  78.000000    ibi     5498603\n",
       "1248         25.161050  76.000000    ibi     5498603\n",
       "...                ...        ...    ...         ...\n",
       "1654286   30394.892956   0.020187     az     5498603\n",
       "1654287   30394.912894   0.019684     az     5498603\n",
       "1654288   30394.932836   0.021667     az     5498603\n",
       "1654289   30394.952839   0.019699     az     5498603\n",
       "1654290   30394.972818   0.018707     az     5498603\n",
       "\n",
       "[4508927 rows x 4 columns]"
      ]
     },
     "execution_count": 30,
     "metadata": {},
     "output_type": "execute_result"
    }
   ],
   "source": [
    "df_participant"
   ]
  },
  {
   "cell_type": "code",
   "execution_count": 84,
   "id": "91331147-b33b-4fe7-b47f-8086099f759b",
   "metadata": {
    "tags": []
   },
   "outputs": [],
   "source": [
    "df_sensor_pivot =df_participant.pivot(index=['time_to_sleep','participant'], columns=[\"marker\"], values=[\"value\"])"
   ]
  },
  {
   "cell_type": "code",
   "execution_count": 85,
   "id": "2c814d97-55bc-4af8-a9f8-268dea54e96f",
   "metadata": {
    "tags": []
   },
   "outputs": [],
   "source": [
    "df_sensor_pivot= df_sensor_pivot.reset_index()"
   ]
  },
  {
   "cell_type": "code",
   "execution_count": 86,
   "id": "708a1f36-32c5-42bd-a8c6-2b2b72dc2632",
   "metadata": {
    "tags": []
   },
   "outputs": [],
   "source": [
    "df_sensor_pivot.columns=['time_to_sleep','participant','ax','ay','az','ibi']"
   ]
  },
  {
   "cell_type": "code",
   "execution_count": 87,
   "id": "87504b4b-61e5-4f7b-8c78-e77061089a25",
   "metadata": {
    "tags": []
   },
   "outputs": [
    {
     "data": {
      "text/html": [
       "<div>\n",
       "<style scoped>\n",
       "    .dataframe tbody tr th:only-of-type {\n",
       "        vertical-align: middle;\n",
       "    }\n",
       "\n",
       "    .dataframe tbody tr th {\n",
       "        vertical-align: top;\n",
       "    }\n",
       "\n",
       "    .dataframe thead th {\n",
       "        text-align: right;\n",
       "    }\n",
       "</style>\n",
       "<table border=\"1\" class=\"dataframe\">\n",
       "  <thead>\n",
       "    <tr style=\"text-align: right;\">\n",
       "      <th></th>\n",
       "      <th>time_to_sleep</th>\n",
       "      <th>participant</th>\n",
       "      <th>ax</th>\n",
       "      <th>ay</th>\n",
       "      <th>az</th>\n",
       "      <th>ibi</th>\n",
       "    </tr>\n",
       "  </thead>\n",
       "  <tbody>\n",
       "    <tr>\n",
       "      <th>0</th>\n",
       "      <td>0.011281</td>\n",
       "      <td>5498603</td>\n",
       "      <td>-0.780762</td>\n",
       "      <td>-0.147369</td>\n",
       "      <td>-0.147369</td>\n",
       "      <td>NaN</td>\n",
       "    </tr>\n",
       "    <tr>\n",
       "      <th>1</th>\n",
       "      <td>0.031235</td>\n",
       "      <td>5498603</td>\n",
       "      <td>-0.779297</td>\n",
       "      <td>-0.154694</td>\n",
       "      <td>-0.154694</td>\n",
       "      <td>NaN</td>\n",
       "    </tr>\n",
       "    <tr>\n",
       "      <th>2</th>\n",
       "      <td>0.051194</td>\n",
       "      <td>5498603</td>\n",
       "      <td>-0.778336</td>\n",
       "      <td>-0.147324</td>\n",
       "      <td>-0.147324</td>\n",
       "      <td>NaN</td>\n",
       "    </tr>\n",
       "    <tr>\n",
       "      <th>3</th>\n",
       "      <td>0.071148</td>\n",
       "      <td>5498603</td>\n",
       "      <td>-0.776856</td>\n",
       "      <td>-0.144867</td>\n",
       "      <td>-0.144867</td>\n",
       "      <td>NaN</td>\n",
       "    </tr>\n",
       "    <tr>\n",
       "      <th>4</th>\n",
       "      <td>0.091204</td>\n",
       "      <td>5498603</td>\n",
       "      <td>-0.765518</td>\n",
       "      <td>-0.146866</td>\n",
       "      <td>-0.146866</td>\n",
       "      <td>NaN</td>\n",
       "    </tr>\n",
       "    <tr>\n",
       "      <th>...</th>\n",
       "      <td>...</td>\n",
       "      <td>...</td>\n",
       "      <td>...</td>\n",
       "      <td>...</td>\n",
       "      <td>...</td>\n",
       "      <td>...</td>\n",
       "    </tr>\n",
       "    <tr>\n",
       "      <th>1506832</th>\n",
       "      <td>30394.892956</td>\n",
       "      <td>5498603</td>\n",
       "      <td>1.001465</td>\n",
       "      <td>0.020187</td>\n",
       "      <td>0.020187</td>\n",
       "      <td>NaN</td>\n",
       "    </tr>\n",
       "    <tr>\n",
       "      <th>1506833</th>\n",
       "      <td>30394.912894</td>\n",
       "      <td>5498603</td>\n",
       "      <td>1.001465</td>\n",
       "      <td>0.019684</td>\n",
       "      <td>0.019684</td>\n",
       "      <td>NaN</td>\n",
       "    </tr>\n",
       "    <tr>\n",
       "      <th>1506834</th>\n",
       "      <td>30394.932836</td>\n",
       "      <td>5498603</td>\n",
       "      <td>1.002441</td>\n",
       "      <td>0.021667</td>\n",
       "      <td>0.021667</td>\n",
       "      <td>NaN</td>\n",
       "    </tr>\n",
       "    <tr>\n",
       "      <th>1506835</th>\n",
       "      <td>30394.952839</td>\n",
       "      <td>5498603</td>\n",
       "      <td>1.001450</td>\n",
       "      <td>0.019699</td>\n",
       "      <td>0.019699</td>\n",
       "      <td>NaN</td>\n",
       "    </tr>\n",
       "    <tr>\n",
       "      <th>1506836</th>\n",
       "      <td>30394.972818</td>\n",
       "      <td>5498603</td>\n",
       "      <td>1.000977</td>\n",
       "      <td>0.018707</td>\n",
       "      <td>0.018707</td>\n",
       "      <td>NaN</td>\n",
       "    </tr>\n",
       "  </tbody>\n",
       "</table>\n",
       "<p>1506837 rows × 6 columns</p>\n",
       "</div>"
      ],
      "text/plain": [
       "         time_to_sleep participant        ax        ay        az  ibi\n",
       "0             0.011281     5498603 -0.780762 -0.147369 -0.147369  NaN\n",
       "1             0.031235     5498603 -0.779297 -0.154694 -0.154694  NaN\n",
       "2             0.051194     5498603 -0.778336 -0.147324 -0.147324  NaN\n",
       "3             0.071148     5498603 -0.776856 -0.144867 -0.144867  NaN\n",
       "4             0.091204     5498603 -0.765518 -0.146866 -0.146866  NaN\n",
       "...                ...         ...       ...       ...       ...  ...\n",
       "1506832   30394.892956     5498603  1.001465  0.020187  0.020187  NaN\n",
       "1506833   30394.912894     5498603  1.001465  0.019684  0.019684  NaN\n",
       "1506834   30394.932836     5498603  1.002441  0.021667  0.021667  NaN\n",
       "1506835   30394.952839     5498603  1.001450  0.019699  0.019699  NaN\n",
       "1506836   30394.972818     5498603  1.000977  0.018707  0.018707  NaN\n",
       "\n",
       "[1506837 rows x 6 columns]"
      ]
     },
     "execution_count": 87,
     "metadata": {},
     "output_type": "execute_result"
    }
   ],
   "source": [
    "df_sensor_pivot"
   ]
  },
  {
   "cell_type": "code",
   "execution_count": 88,
   "id": "c260206e-eef0-4af3-bf6e-9cae076b1ea2",
   "metadata": {
    "tags": []
   },
   "outputs": [],
   "source": [
    "path_to_5498603_labels = '/nesi/nobackup/aut03802/dataset_sleep/physionet.org/files/sleep-accel/1.0.0/labels/5498603_labeled_sleep.txt'\n",
    "participant_5498603_labels=pd.read_csv(path_to_5498603_labels,sep=' ')\n",
    "participant_5498603_labels.columns=['time_to_sleep','sleep_stage']\n",
    "participant_5498603_labels['time_to_sleep'] = participant_5498603_labels['time_to_sleep'].astype('float64')\n",
    "# Merge participant_labels with df_sensor_pivot on 'time_to_sleep' column\n",
    "df_sensor_pivot = df_sensor_pivot.merge(participant_5498603_labels, on='time_to_sleep', how='outer')\n",
    "\n",
    "# Optionally, forward fill the sleep stage labels to fill NaN values in case there are gaps\n",
    "\n"
   ]
  },
  {
   "cell_type": "code",
   "execution_count": 91,
   "id": "8d0d1f6c-06bf-4410-853d-7eb820f4373d",
   "metadata": {
    "tags": []
   },
   "outputs": [
    {
     "data": {
      "text/html": [
       "<div>\n",
       "<style scoped>\n",
       "    .dataframe tbody tr th:only-of-type {\n",
       "        vertical-align: middle;\n",
       "    }\n",
       "\n",
       "    .dataframe tbody tr th {\n",
       "        vertical-align: top;\n",
       "    }\n",
       "\n",
       "    .dataframe thead th {\n",
       "        text-align: right;\n",
       "    }\n",
       "</style>\n",
       "<table border=\"1\" class=\"dataframe\">\n",
       "  <thead>\n",
       "    <tr style=\"text-align: right;\">\n",
       "      <th></th>\n",
       "      <th>time_to_sleep</th>\n",
       "      <th>participant</th>\n",
       "      <th>ax</th>\n",
       "      <th>ay</th>\n",
       "      <th>az</th>\n",
       "      <th>ibi</th>\n",
       "      <th>sleep_stage</th>\n",
       "    </tr>\n",
       "  </thead>\n",
       "  <tbody>\n",
       "    <tr>\n",
       "      <th>0</th>\n",
       "      <td>0.011281</td>\n",
       "      <td>5498603</td>\n",
       "      <td>-0.780762</td>\n",
       "      <td>-0.147369</td>\n",
       "      <td>-0.147369</td>\n",
       "      <td>NaN</td>\n",
       "      <td>NaN</td>\n",
       "    </tr>\n",
       "    <tr>\n",
       "      <th>1</th>\n",
       "      <td>0.031235</td>\n",
       "      <td>5498603</td>\n",
       "      <td>-0.779297</td>\n",
       "      <td>-0.154694</td>\n",
       "      <td>-0.154694</td>\n",
       "      <td>NaN</td>\n",
       "      <td>NaN</td>\n",
       "    </tr>\n",
       "    <tr>\n",
       "      <th>2</th>\n",
       "      <td>0.051194</td>\n",
       "      <td>5498603</td>\n",
       "      <td>-0.778336</td>\n",
       "      <td>-0.147324</td>\n",
       "      <td>-0.147324</td>\n",
       "      <td>NaN</td>\n",
       "      <td>NaN</td>\n",
       "    </tr>\n",
       "    <tr>\n",
       "      <th>3</th>\n",
       "      <td>0.071148</td>\n",
       "      <td>5498603</td>\n",
       "      <td>-0.776856</td>\n",
       "      <td>-0.144867</td>\n",
       "      <td>-0.144867</td>\n",
       "      <td>NaN</td>\n",
       "      <td>NaN</td>\n",
       "    </tr>\n",
       "    <tr>\n",
       "      <th>4</th>\n",
       "      <td>0.091204</td>\n",
       "      <td>5498603</td>\n",
       "      <td>-0.765518</td>\n",
       "      <td>-0.146866</td>\n",
       "      <td>-0.146866</td>\n",
       "      <td>NaN</td>\n",
       "      <td>NaN</td>\n",
       "    </tr>\n",
       "    <tr>\n",
       "      <th>...</th>\n",
       "      <td>...</td>\n",
       "      <td>...</td>\n",
       "      <td>...</td>\n",
       "      <td>...</td>\n",
       "      <td>...</td>\n",
       "      <td>...</td>\n",
       "      <td>...</td>\n",
       "    </tr>\n",
       "    <tr>\n",
       "      <th>1507590</th>\n",
       "      <td>22620.000000</td>\n",
       "      <td>5498603</td>\n",
       "      <td>1.000977</td>\n",
       "      <td>0.018707</td>\n",
       "      <td>0.018707</td>\n",
       "      <td>104.0</td>\n",
       "      <td>5.0</td>\n",
       "    </tr>\n",
       "    <tr>\n",
       "      <th>1507591</th>\n",
       "      <td>22650.000000</td>\n",
       "      <td>5498603</td>\n",
       "      <td>1.000977</td>\n",
       "      <td>0.018707</td>\n",
       "      <td>0.018707</td>\n",
       "      <td>104.0</td>\n",
       "      <td>-1.0</td>\n",
       "    </tr>\n",
       "    <tr>\n",
       "      <th>1507592</th>\n",
       "      <td>22680.000000</td>\n",
       "      <td>5498603</td>\n",
       "      <td>1.000977</td>\n",
       "      <td>0.018707</td>\n",
       "      <td>0.018707</td>\n",
       "      <td>104.0</td>\n",
       "      <td>-1.0</td>\n",
       "    </tr>\n",
       "    <tr>\n",
       "      <th>1507593</th>\n",
       "      <td>22710.000000</td>\n",
       "      <td>5498603</td>\n",
       "      <td>1.000977</td>\n",
       "      <td>0.018707</td>\n",
       "      <td>0.018707</td>\n",
       "      <td>104.0</td>\n",
       "      <td>-1.0</td>\n",
       "    </tr>\n",
       "    <tr>\n",
       "      <th>1507594</th>\n",
       "      <td>22740.000000</td>\n",
       "      <td>5498603</td>\n",
       "      <td>1.000977</td>\n",
       "      <td>0.018707</td>\n",
       "      <td>0.018707</td>\n",
       "      <td>104.0</td>\n",
       "      <td>-1.0</td>\n",
       "    </tr>\n",
       "  </tbody>\n",
       "</table>\n",
       "<p>1507595 rows × 7 columns</p>\n",
       "</div>"
      ],
      "text/plain": [
       "         time_to_sleep participant        ax        ay        az    ibi  \\\n",
       "0             0.011281     5498603 -0.780762 -0.147369 -0.147369    NaN   \n",
       "1             0.031235     5498603 -0.779297 -0.154694 -0.154694    NaN   \n",
       "2             0.051194     5498603 -0.778336 -0.147324 -0.147324    NaN   \n",
       "3             0.071148     5498603 -0.776856 -0.144867 -0.144867    NaN   \n",
       "4             0.091204     5498603 -0.765518 -0.146866 -0.146866    NaN   \n",
       "...                ...         ...       ...       ...       ...    ...   \n",
       "1507590   22620.000000     5498603  1.000977  0.018707  0.018707  104.0   \n",
       "1507591   22650.000000     5498603  1.000977  0.018707  0.018707  104.0   \n",
       "1507592   22680.000000     5498603  1.000977  0.018707  0.018707  104.0   \n",
       "1507593   22710.000000     5498603  1.000977  0.018707  0.018707  104.0   \n",
       "1507594   22740.000000     5498603  1.000977  0.018707  0.018707  104.0   \n",
       "\n",
       "         sleep_stage  \n",
       "0                NaN  \n",
       "1                NaN  \n",
       "2                NaN  \n",
       "3                NaN  \n",
       "4                NaN  \n",
       "...              ...  \n",
       "1507590          5.0  \n",
       "1507591         -1.0  \n",
       "1507592         -1.0  \n",
       "1507593         -1.0  \n",
       "1507594         -1.0  \n",
       "\n",
       "[1507595 rows x 7 columns]"
      ]
     },
     "execution_count": 91,
     "metadata": {},
     "output_type": "execute_result"
    }
   ],
   "source": []
  },
  {
   "cell_type": "code",
   "execution_count": 54,
   "id": "f76266d7-7d33-44d9-9868-c9709ea58b8c",
   "metadata": {
    "tags": []
   },
   "outputs": [
    {
     "data": {
      "text/html": [
       "<div>\n",
       "<style scoped>\n",
       "    .dataframe tbody tr th:only-of-type {\n",
       "        vertical-align: middle;\n",
       "    }\n",
       "\n",
       "    .dataframe tbody tr th {\n",
       "        vertical-align: top;\n",
       "    }\n",
       "\n",
       "    .dataframe thead th {\n",
       "        text-align: right;\n",
       "    }\n",
       "</style>\n",
       "<table border=\"1\" class=\"dataframe\">\n",
       "  <thead>\n",
       "    <tr style=\"text-align: right;\">\n",
       "      <th></th>\n",
       "      <th>time_to_sleep</th>\n",
       "      <th>participant</th>\n",
       "      <th>ax</th>\n",
       "      <th>ay</th>\n",
       "      <th>az</th>\n",
       "      <th>ibi</th>\n",
       "      <th>sleep_stage</th>\n",
       "    </tr>\n",
       "  </thead>\n",
       "  <tbody>\n",
       "  </tbody>\n",
       "</table>\n",
       "</div>"
      ],
      "text/plain": [
       "Empty DataFrame\n",
       "Columns: [time_to_sleep, participant, ax, ay, az, ibi, sleep_stage]\n",
       "Index: []"
      ]
     },
     "execution_count": 54,
     "metadata": {},
     "output_type": "execute_result"
    }
   ],
   "source": [
    "df_sensor_pivot[df_sensor_pivot['sleep_stage']==-0]"
   ]
  },
  {
   "cell_type": "code",
   "execution_count": 35,
   "id": "6a2a21dc-4c6d-4882-bc33-3dbdfa6c5a37",
   "metadata": {
    "tags": []
   },
   "outputs": [
    {
     "ename": "AttributeError",
     "evalue": "'method' object has no attribute 'columns'",
     "output_type": "error",
     "traceback": [
      "\u001b[0;31m---------------------------------------------------------------------------\u001b[0m",
      "\u001b[0;31mAttributeError\u001b[0m                            Traceback (most recent call last)",
      "Input \u001b[0;32mIn [35]\u001b[0m, in \u001b[0;36m<cell line: 1>\u001b[0;34m()\u001b[0m\n\u001b[0;32m----> 1\u001b[0m df_sensor_pivot\u001b[38;5;241m.\u001b[39mcolumns\u001b[38;5;241m=\u001b[39m [\u001b[38;5;124m'\u001b[39m\u001b[38;5;124max\u001b[39m\u001b[38;5;124m'\u001b[39m,\u001b[38;5;124m'\u001b[39m\u001b[38;5;124may\u001b[39m\u001b[38;5;124m'\u001b[39m,\u001b[38;5;124m'\u001b[39m\u001b[38;5;124maz\u001b[39m\u001b[38;5;124m'\u001b[39m,\u001b[38;5;124m'\u001b[39m\u001b[38;5;124mibi\u001b[39m\u001b[38;5;124m'\u001b[39m]\n",
      "\u001b[0;31mAttributeError\u001b[0m: 'method' object has no attribute 'columns'"
     ]
    }
   ],
   "source": []
  },
  {
   "cell_type": "code",
   "execution_count": 34,
   "id": "2f05c93c-6421-4b21-ae3a-349f573b80f3",
   "metadata": {
    "tags": []
   },
   "outputs": [
    {
     "data": {
      "text/plain": [
       "<bound method DataFrame.reset_index of                               value                        \n",
       "marker                           ax        ay        az ibi\n",
       "time_to_sleep participant                                  \n",
       "0.011281      5498603     -0.780762 -0.147369 -0.147369 NaN\n",
       "0.031235      5498603     -0.779297 -0.154694 -0.154694 NaN\n",
       "0.051194      5498603     -0.778336 -0.147324 -0.147324 NaN\n",
       "0.071148      5498603     -0.776856 -0.144867 -0.144867 NaN\n",
       "0.091204      5498603     -0.765518 -0.146866 -0.146866 NaN\n",
       "...                             ...       ...       ...  ..\n",
       "30394.892956  5498603      1.001465  0.020187  0.020187 NaN\n",
       "30394.912894  5498603      1.001465  0.019684  0.019684 NaN\n",
       "30394.932836  5498603      1.002441  0.021667  0.021667 NaN\n",
       "30394.952839  5498603      1.001450  0.019699  0.019699 NaN\n",
       "30394.972818  5498603      1.000977  0.018707  0.018707 NaN\n",
       "\n",
       "[1506837 rows x 4 columns]>"
      ]
     },
     "execution_count": 34,
     "metadata": {},
     "output_type": "execute_result"
    }
   ],
   "source": [
    "df_sensor_pivot"
   ]
  },
  {
   "cell_type": "code",
   "execution_count": 42,
   "id": "5d462dc1-fa5b-4400-a849-d7b978218f3a",
   "metadata": {
    "tags": []
   },
   "outputs": [],
   "source": [
    "df_sensor_pivot= df_sensor_pivot.ffill().bfill()"
   ]
  },
  {
   "cell_type": "code",
   "execution_count": 43,
   "id": "0c860847-d7a9-452b-88f5-486c5f1ed02a",
   "metadata": {
    "tags": []
   },
   "outputs": [
    {
     "data": {
      "text/html": [
       "<div>\n",
       "<style scoped>\n",
       "    .dataframe tbody tr th:only-of-type {\n",
       "        vertical-align: middle;\n",
       "    }\n",
       "\n",
       "    .dataframe tbody tr th {\n",
       "        vertical-align: top;\n",
       "    }\n",
       "\n",
       "    .dataframe thead th {\n",
       "        text-align: right;\n",
       "    }\n",
       "</style>\n",
       "<table border=\"1\" class=\"dataframe\">\n",
       "  <thead>\n",
       "    <tr style=\"text-align: right;\">\n",
       "      <th></th>\n",
       "      <th>ax</th>\n",
       "      <th>ay</th>\n",
       "      <th>az</th>\n",
       "      <th>ibi</th>\n",
       "      <th>time_to_sleep</th>\n",
       "    </tr>\n",
       "    <tr>\n",
       "      <th>time_to_sleep</th>\n",
       "      <th></th>\n",
       "      <th></th>\n",
       "      <th></th>\n",
       "      <th></th>\n",
       "      <th></th>\n",
       "    </tr>\n",
       "  </thead>\n",
       "  <tbody>\n",
       "    <tr>\n",
       "      <th>30.005565</th>\n",
       "      <td>-0.540466</td>\n",
       "      <td>-0.365982</td>\n",
       "      <td>-0.365982</td>\n",
       "      <td>76.0</td>\n",
       "      <td>30.005565</td>\n",
       "    </tr>\n",
       "    <tr>\n",
       "      <th>30.025521</th>\n",
       "      <td>-0.542969</td>\n",
       "      <td>-0.357117</td>\n",
       "      <td>-0.357117</td>\n",
       "      <td>76.0</td>\n",
       "      <td>30.025521</td>\n",
       "    </tr>\n",
       "    <tr>\n",
       "      <th>30.045546</th>\n",
       "      <td>-0.543930</td>\n",
       "      <td>-0.351746</td>\n",
       "      <td>-0.351746</td>\n",
       "      <td>76.0</td>\n",
       "      <td>30.045546</td>\n",
       "    </tr>\n",
       "    <tr>\n",
       "      <th>30.065310</th>\n",
       "      <td>-0.544403</td>\n",
       "      <td>-0.350815</td>\n",
       "      <td>-0.350815</td>\n",
       "      <td>76.0</td>\n",
       "      <td>30.065310</td>\n",
       "    </tr>\n",
       "    <tr>\n",
       "      <th>30.085397</th>\n",
       "      <td>-0.545395</td>\n",
       "      <td>-0.347366</td>\n",
       "      <td>-0.347366</td>\n",
       "      <td>76.0</td>\n",
       "      <td>30.085397</td>\n",
       "    </tr>\n",
       "    <tr>\n",
       "      <th>...</th>\n",
       "      <td>...</td>\n",
       "      <td>...</td>\n",
       "      <td>...</td>\n",
       "      <td>...</td>\n",
       "      <td>...</td>\n",
       "    </tr>\n",
       "    <tr>\n",
       "      <th>59.917394</th>\n",
       "      <td>-0.603714</td>\n",
       "      <td>-0.222610</td>\n",
       "      <td>-0.222610</td>\n",
       "      <td>74.0</td>\n",
       "      <td>59.917394</td>\n",
       "    </tr>\n",
       "    <tr>\n",
       "      <th>59.937295</th>\n",
       "      <td>-0.601761</td>\n",
       "      <td>-0.215744</td>\n",
       "      <td>-0.215744</td>\n",
       "      <td>74.0</td>\n",
       "      <td>59.937295</td>\n",
       "    </tr>\n",
       "    <tr>\n",
       "      <th>59.957359</th>\n",
       "      <td>-0.602249</td>\n",
       "      <td>-0.213776</td>\n",
       "      <td>-0.213776</td>\n",
       "      <td>74.0</td>\n",
       "      <td>59.957359</td>\n",
       "    </tr>\n",
       "    <tr>\n",
       "      <th>59.977272</th>\n",
       "      <td>-0.603714</td>\n",
       "      <td>-0.209885</td>\n",
       "      <td>-0.209885</td>\n",
       "      <td>74.0</td>\n",
       "      <td>59.977272</td>\n",
       "    </tr>\n",
       "    <tr>\n",
       "      <th>59.997232</th>\n",
       "      <td>-0.603714</td>\n",
       "      <td>-0.211853</td>\n",
       "      <td>-0.211853</td>\n",
       "      <td>74.0</td>\n",
       "      <td>59.997232</td>\n",
       "    </tr>\n",
       "  </tbody>\n",
       "</table>\n",
       "<p>1511 rows × 5 columns</p>\n",
       "</div>"
      ],
      "text/plain": [
       "                     ax        ay        az   ibi  time_to_sleep\n",
       "time_to_sleep                                                   \n",
       "30.005565     -0.540466 -0.365982 -0.365982  76.0      30.005565\n",
       "30.025521     -0.542969 -0.357117 -0.357117  76.0      30.025521\n",
       "30.045546     -0.543930 -0.351746 -0.351746  76.0      30.045546\n",
       "30.065310     -0.544403 -0.350815 -0.350815  76.0      30.065310\n",
       "30.085397     -0.545395 -0.347366 -0.347366  76.0      30.085397\n",
       "...                 ...       ...       ...   ...            ...\n",
       "59.917394     -0.603714 -0.222610 -0.222610  74.0      59.917394\n",
       "59.937295     -0.601761 -0.215744 -0.215744  74.0      59.937295\n",
       "59.957359     -0.602249 -0.213776 -0.213776  74.0      59.957359\n",
       "59.977272     -0.603714 -0.209885 -0.209885  74.0      59.977272\n",
       "59.997232     -0.603714 -0.211853 -0.211853  74.0      59.997232\n",
       "\n",
       "[1511 rows x 5 columns]"
      ]
     },
     "execution_count": 43,
     "metadata": {},
     "output_type": "execute_result"
    }
   ],
   "source": [
    "df_sensor_pivot[(df_sensor_pivot['time_to_sleep']>30) & (df_sensor_pivot['time_to_sleep'] <=60)]"
   ]
  },
  {
   "cell_type": "code",
   "execution_count": 41,
   "id": "8ef27f43-108e-4d49-8074-ac955d6805c5",
   "metadata": {
    "tags": []
   },
   "outputs": [
    {
     "data": {
      "text/html": [
       "<div>\n",
       "<style scoped>\n",
       "    .dataframe tbody tr th:only-of-type {\n",
       "        vertical-align: middle;\n",
       "    }\n",
       "\n",
       "    .dataframe tbody tr th {\n",
       "        vertical-align: top;\n",
       "    }\n",
       "\n",
       "    .dataframe thead th {\n",
       "        text-align: right;\n",
       "    }\n",
       "</style>\n",
       "<table border=\"1\" class=\"dataframe\">\n",
       "  <thead>\n",
       "    <tr style=\"text-align: right;\">\n",
       "      <th></th>\n",
       "      <th>ax</th>\n",
       "      <th>ay</th>\n",
       "      <th>az</th>\n",
       "      <th>ibi</th>\n",
       "      <th>time_to_sleep</th>\n",
       "    </tr>\n",
       "    <tr>\n",
       "      <th>time_to_sleep</th>\n",
       "      <th></th>\n",
       "      <th></th>\n",
       "      <th></th>\n",
       "      <th></th>\n",
       "      <th></th>\n",
       "    </tr>\n",
       "  </thead>\n",
       "  <tbody>\n",
       "    <tr>\n",
       "      <th>60.017185</th>\n",
       "      <td>-0.602249</td>\n",
       "      <td>-0.213791</td>\n",
       "      <td>-0.213791</td>\n",
       "      <td>NaN</td>\n",
       "      <td>60.017185</td>\n",
       "    </tr>\n",
       "    <tr>\n",
       "      <th>60.036999</th>\n",
       "      <td>-0.602234</td>\n",
       "      <td>-0.213806</td>\n",
       "      <td>-0.213806</td>\n",
       "      <td>NaN</td>\n",
       "      <td>60.036999</td>\n",
       "    </tr>\n",
       "    <tr>\n",
       "      <th>60.057155</th>\n",
       "      <td>-0.602219</td>\n",
       "      <td>-0.216766</td>\n",
       "      <td>-0.216766</td>\n",
       "      <td>NaN</td>\n",
       "      <td>60.057155</td>\n",
       "    </tr>\n",
       "    <tr>\n",
       "      <th>60.077022</th>\n",
       "      <td>-0.604706</td>\n",
       "      <td>-0.214768</td>\n",
       "      <td>-0.214768</td>\n",
       "      <td>NaN</td>\n",
       "      <td>60.077022</td>\n",
       "    </tr>\n",
       "    <tr>\n",
       "      <th>60.096978</th>\n",
       "      <td>-0.603729</td>\n",
       "      <td>-0.210342</td>\n",
       "      <td>-0.210342</td>\n",
       "      <td>NaN</td>\n",
       "      <td>60.096978</td>\n",
       "    </tr>\n",
       "    <tr>\n",
       "      <th>...</th>\n",
       "      <td>...</td>\n",
       "      <td>...</td>\n",
       "      <td>...</td>\n",
       "      <td>...</td>\n",
       "      <td>...</td>\n",
       "    </tr>\n",
       "    <tr>\n",
       "      <th>89.911538</th>\n",
       "      <td>-0.603226</td>\n",
       "      <td>-0.214279</td>\n",
       "      <td>-0.214279</td>\n",
       "      <td>NaN</td>\n",
       "      <td>89.911538</td>\n",
       "    </tr>\n",
       "    <tr>\n",
       "      <th>89.931485</th>\n",
       "      <td>-0.603729</td>\n",
       "      <td>-0.217209</td>\n",
       "      <td>-0.217209</td>\n",
       "      <td>NaN</td>\n",
       "      <td>89.931485</td>\n",
       "    </tr>\n",
       "    <tr>\n",
       "      <th>89.951435</th>\n",
       "      <td>-0.602249</td>\n",
       "      <td>-0.214264</td>\n",
       "      <td>-0.214264</td>\n",
       "      <td>NaN</td>\n",
       "      <td>89.951435</td>\n",
       "    </tr>\n",
       "    <tr>\n",
       "      <th>89.971447</th>\n",
       "      <td>-0.605667</td>\n",
       "      <td>-0.213318</td>\n",
       "      <td>-0.213318</td>\n",
       "      <td>NaN</td>\n",
       "      <td>89.971447</td>\n",
       "    </tr>\n",
       "    <tr>\n",
       "      <th>89.991352</th>\n",
       "      <td>-0.604691</td>\n",
       "      <td>-0.214783</td>\n",
       "      <td>-0.214783</td>\n",
       "      <td>NaN</td>\n",
       "      <td>89.991352</td>\n",
       "    </tr>\n",
       "  </tbody>\n",
       "</table>\n",
       "<p>1509 rows × 5 columns</p>\n",
       "</div>"
      ],
      "text/plain": [
       "                     ax        ay        az  ibi  time_to_sleep\n",
       "time_to_sleep                                                  \n",
       "60.017185     -0.602249 -0.213791 -0.213791  NaN      60.017185\n",
       "60.036999     -0.602234 -0.213806 -0.213806  NaN      60.036999\n",
       "60.057155     -0.602219 -0.216766 -0.216766  NaN      60.057155\n",
       "60.077022     -0.604706 -0.214768 -0.214768  NaN      60.077022\n",
       "60.096978     -0.603729 -0.210342 -0.210342  NaN      60.096978\n",
       "...                 ...       ...       ...  ...            ...\n",
       "89.911538     -0.603226 -0.214279 -0.214279  NaN      89.911538\n",
       "89.931485     -0.603729 -0.217209 -0.217209  NaN      89.931485\n",
       "89.951435     -0.602249 -0.214264 -0.214264  NaN      89.951435\n",
       "89.971447     -0.605667 -0.213318 -0.213318  NaN      89.971447\n",
       "89.991352     -0.604691 -0.214783 -0.214783  NaN      89.991352\n",
       "\n",
       "[1509 rows x 5 columns]"
      ]
     },
     "execution_count": 41,
     "metadata": {},
     "output_type": "execute_result"
    }
   ],
   "source": [
    "df_sensor_pivot[(df_sensor_pivot['time_to_sleep']>60) & (df_sensor_pivot['time_to_sleep'] <=90)]"
   ]
  },
  {
   "cell_type": "code",
   "execution_count": 37,
   "id": "ea4e2c6d-56ff-4c02-94ee-50c32d4a9700",
   "metadata": {
    "tags": []
   },
   "outputs": [
    {
     "ename": "ValueError",
     "evalue": "cannot insert time_to_sleep, already exists",
     "output_type": "error",
     "traceback": [
      "\u001b[0;31m---------------------------------------------------------------------------\u001b[0m",
      "\u001b[0;31mValueError\u001b[0m                                Traceback (most recent call last)",
      "Input \u001b[0;32mIn [37]\u001b[0m, in \u001b[0;36m<cell line: 1>\u001b[0;34m()\u001b[0m\n\u001b[0;32m----> 1\u001b[0m df_sensor_pivot \u001b[38;5;241m=\u001b[39m \u001b[43mdf_sensor_pivot\u001b[49m\u001b[38;5;241;43m.\u001b[39;49m\u001b[43mreset_index\u001b[49m\u001b[43m(\u001b[49m\u001b[43m)\u001b[49m\n",
      "File \u001b[0;32m~/.local/Python-3.10-gimkl-2022a/lib/python3.10/site-packages/pandas/util/_decorators.py:331\u001b[0m, in \u001b[0;36mdeprecate_nonkeyword_arguments.<locals>.decorate.<locals>.wrapper\u001b[0;34m(*args, **kwargs)\u001b[0m\n\u001b[1;32m    325\u001b[0m \u001b[38;5;28;01mif\u001b[39;00m \u001b[38;5;28mlen\u001b[39m(args) \u001b[38;5;241m>\u001b[39m num_allow_args:\n\u001b[1;32m    326\u001b[0m     warnings\u001b[38;5;241m.\u001b[39mwarn(\n\u001b[1;32m    327\u001b[0m         msg\u001b[38;5;241m.\u001b[39mformat(arguments\u001b[38;5;241m=\u001b[39m_format_argument_list(allow_args)),\n\u001b[1;32m    328\u001b[0m         \u001b[38;5;167;01mFutureWarning\u001b[39;00m,\n\u001b[1;32m    329\u001b[0m         stacklevel\u001b[38;5;241m=\u001b[39mfind_stack_level(),\n\u001b[1;32m    330\u001b[0m     )\n\u001b[0;32m--> 331\u001b[0m \u001b[38;5;28;01mreturn\u001b[39;00m \u001b[43mfunc\u001b[49m\u001b[43m(\u001b[49m\u001b[38;5;241;43m*\u001b[39;49m\u001b[43margs\u001b[49m\u001b[43m,\u001b[49m\u001b[43m \u001b[49m\u001b[38;5;241;43m*\u001b[39;49m\u001b[38;5;241;43m*\u001b[39;49m\u001b[43mkwargs\u001b[49m\u001b[43m)\u001b[49m\n",
      "File \u001b[0;32m~/.local/Python-3.10-gimkl-2022a/lib/python3.10/site-packages/pandas/core/frame.py:6361\u001b[0m, in \u001b[0;36mDataFrame.reset_index\u001b[0;34m(self, level, drop, inplace, col_level, col_fill, allow_duplicates, names)\u001b[0m\n\u001b[1;32m   6355\u001b[0m         \u001b[38;5;28;01mif\u001b[39;00m lab \u001b[38;5;129;01mis\u001b[39;00m \u001b[38;5;129;01mnot\u001b[39;00m \u001b[38;5;28;01mNone\u001b[39;00m:\n\u001b[1;32m   6356\u001b[0m             \u001b[38;5;66;03m# if we have the codes, extract the values with a mask\u001b[39;00m\n\u001b[1;32m   6357\u001b[0m             level_values \u001b[38;5;241m=\u001b[39m algorithms\u001b[38;5;241m.\u001b[39mtake(\n\u001b[1;32m   6358\u001b[0m                 level_values, lab, allow_fill\u001b[38;5;241m=\u001b[39m\u001b[38;5;28;01mTrue\u001b[39;00m, fill_value\u001b[38;5;241m=\u001b[39mlev\u001b[38;5;241m.\u001b[39m_na_value\n\u001b[1;32m   6359\u001b[0m             )\n\u001b[0;32m-> 6361\u001b[0m         \u001b[43mnew_obj\u001b[49m\u001b[38;5;241;43m.\u001b[39;49m\u001b[43minsert\u001b[49m\u001b[43m(\u001b[49m\n\u001b[1;32m   6362\u001b[0m \u001b[43m            \u001b[49m\u001b[38;5;241;43m0\u001b[39;49m\u001b[43m,\u001b[49m\n\u001b[1;32m   6363\u001b[0m \u001b[43m            \u001b[49m\u001b[43mname\u001b[49m\u001b[43m,\u001b[49m\n\u001b[1;32m   6364\u001b[0m \u001b[43m            \u001b[49m\u001b[43mlevel_values\u001b[49m\u001b[43m,\u001b[49m\n\u001b[1;32m   6365\u001b[0m \u001b[43m            \u001b[49m\u001b[43mallow_duplicates\u001b[49m\u001b[38;5;241;43m=\u001b[39;49m\u001b[43mallow_duplicates\u001b[49m\u001b[43m,\u001b[49m\n\u001b[1;32m   6366\u001b[0m \u001b[43m        \u001b[49m\u001b[43m)\u001b[49m\n\u001b[1;32m   6368\u001b[0m new_obj\u001b[38;5;241m.\u001b[39mindex \u001b[38;5;241m=\u001b[39m new_index\n\u001b[1;32m   6369\u001b[0m \u001b[38;5;28;01mif\u001b[39;00m \u001b[38;5;129;01mnot\u001b[39;00m inplace:\n",
      "File \u001b[0;32m~/.local/Python-3.10-gimkl-2022a/lib/python3.10/site-packages/pandas/core/frame.py:4817\u001b[0m, in \u001b[0;36mDataFrame.insert\u001b[0;34m(self, loc, column, value, allow_duplicates)\u001b[0m\n\u001b[1;32m   4811\u001b[0m     \u001b[38;5;28;01mraise\u001b[39;00m \u001b[38;5;167;01mValueError\u001b[39;00m(\n\u001b[1;32m   4812\u001b[0m         \u001b[38;5;124m\"\u001b[39m\u001b[38;5;124mCannot specify \u001b[39m\u001b[38;5;124m'\u001b[39m\u001b[38;5;124mallow_duplicates=True\u001b[39m\u001b[38;5;124m'\u001b[39m\u001b[38;5;124m when \u001b[39m\u001b[38;5;124m\"\u001b[39m\n\u001b[1;32m   4813\u001b[0m         \u001b[38;5;124m\"\u001b[39m\u001b[38;5;124m'\u001b[39m\u001b[38;5;124mself.flags.allows_duplicate_labels\u001b[39m\u001b[38;5;124m'\u001b[39m\u001b[38;5;124m is False.\u001b[39m\u001b[38;5;124m\"\u001b[39m\n\u001b[1;32m   4814\u001b[0m     )\n\u001b[1;32m   4815\u001b[0m \u001b[38;5;28;01mif\u001b[39;00m \u001b[38;5;129;01mnot\u001b[39;00m allow_duplicates \u001b[38;5;129;01mand\u001b[39;00m column \u001b[38;5;129;01min\u001b[39;00m \u001b[38;5;28mself\u001b[39m\u001b[38;5;241m.\u001b[39mcolumns:\n\u001b[1;32m   4816\u001b[0m     \u001b[38;5;66;03m# Should this be a different kind of error??\u001b[39;00m\n\u001b[0;32m-> 4817\u001b[0m     \u001b[38;5;28;01mraise\u001b[39;00m \u001b[38;5;167;01mValueError\u001b[39;00m(\u001b[38;5;124mf\u001b[39m\u001b[38;5;124m\"\u001b[39m\u001b[38;5;124mcannot insert \u001b[39m\u001b[38;5;132;01m{\u001b[39;00mcolumn\u001b[38;5;132;01m}\u001b[39;00m\u001b[38;5;124m, already exists\u001b[39m\u001b[38;5;124m\"\u001b[39m)\n\u001b[1;32m   4818\u001b[0m \u001b[38;5;28;01mif\u001b[39;00m \u001b[38;5;129;01mnot\u001b[39;00m \u001b[38;5;28misinstance\u001b[39m(loc, \u001b[38;5;28mint\u001b[39m):\n\u001b[1;32m   4819\u001b[0m     \u001b[38;5;28;01mraise\u001b[39;00m \u001b[38;5;167;01mTypeError\u001b[39;00m(\u001b[38;5;124m\"\u001b[39m\u001b[38;5;124mloc must be int\u001b[39m\u001b[38;5;124m\"\u001b[39m)\n",
      "\u001b[0;31mValueError\u001b[0m: cannot insert time_to_sleep, already exists"
     ]
    }
   ],
   "source": [
    "df_sensor_pivot = df_sensor_pivot.reset_index("
   ]
  },
  {
   "cell_type": "code",
   "execution_count": 26,
   "id": "881e9227-63cd-4004-ba38-2436df5141ce",
   "metadata": {
    "tags": []
   },
   "outputs": [],
   "source": [
    "path_to_5498603_labels = '/nesi/nobackup/aut03802/dataset_sleep/physionet.org/files/sleep-accel/1.0.0/labels/5498603_labeled_sleep.txt'\n",
    "participant_5498603_labels=pd.read_csv(path_to_5498603_labels,sep=' ')\n"
   ]
  },
  {
   "cell_type": "code",
   "execution_count": 27,
   "id": "c6f90bd7-95c4-49bd-aca4-eac403f32de0",
   "metadata": {
    "tags": []
   },
   "outputs": [],
   "source": [
    "participant_5498603_labels.columns=['time_to_sleep','sleep_stage']\n",
    "participant_5498603_labels['time_to_sleep'] = participant_5498603_labels['time_to_sleep'].astype('float64')"
   ]
  },
  {
   "cell_type": "code",
   "execution_count": 28,
   "id": "031e32f3-94c4-4b01-8c5d-c69cb471bf49",
   "metadata": {
    "tags": []
   },
   "outputs": [
    {
     "name": "stderr",
     "output_type": "stream",
     "text": [
      "/opt/nesi/CS400_centos7_bdw/Python/3.10.5-gimkl-2022a/lib/python3.10/site-packages/IPython/core/pylabtools.py:151: UserWarning: Creating legend with loc=\"best\" can be slow with large amounts of data.\n",
      "  fig.canvas.print_figure(bytes_io, **kw)\n"
     ]
    },
    {
     "data": {
      "image/png": "[encoded data removed]",
      "text/plain": [
       "<Figure size 432x288 with 1 Axes>"
      ]
     },
     "metadata": {
      "needs_background": "light"
     },
     "output_type": "display_data"
    }
   ],
   "source": [
    "plt.plot(participant_5498603_acc['time_to_sleep'],participant_5498603_acc['ax'],label='ax')\n",
    "plt.plot(participant_5498603_acc['time_to_sleep'],participant_5498603_acc['ay'],label='ay')\n",
    "plt.plot(participant_5498603_acc['time_to_sleep'],participant_5498603_acc['az'],label='az')\n",
    "plt.plot(participant_5498603_ibi['time_to_sleep'],participant_5498603_ibi['ibi'],label='ibi')\n",
    "plt.xlabel('time_asleep(s)')\n",
    "plt.ylabel('a in g)')\n",
    "plt.legend()\n",
    "plt.show()"
   ]
  },
  {
   "cell_type": "markdown",
   "id": "c38f9c78-dbe8-40d0-b0dd-8c53add41053",
   "metadata": {},
   "source": [
    "let us rescale them all to observe the relative trends \n"
   ]
  },
  {
   "cell_type": "code",
   "execution_count": 29,
   "id": "826a5cac-0e0a-4399-9a76-67bb924071c9",
   "metadata": {
    "tags": []
   },
   "outputs": [],
   "source": [
    "from sklearn.preprocessing import StandardScaler"
   ]
  },
  {
   "cell_type": "code",
   "execution_count": 32,
   "id": "717de3b7-d69b-49da-be35-cb4e3a386bf0",
   "metadata": {
    "tags": []
   },
   "outputs": [
    {
     "data": {
      "text/html": [
       "<div>\n",
       "<style scoped>\n",
       "    .dataframe tbody tr th:only-of-type {\n",
       "        vertical-align: middle;\n",
       "    }\n",
       "\n",
       "    .dataframe tbody tr th {\n",
       "        vertical-align: top;\n",
       "    }\n",
       "\n",
       "    .dataframe thead th {\n",
       "        text-align: right;\n",
       "    }\n",
       "</style>\n",
       "<table border=\"1\" class=\"dataframe\">\n",
       "  <thead>\n",
       "    <tr style=\"text-align: right;\">\n",
       "      <th></th>\n",
       "      <th>time_to_sleep</th>\n",
       "      <th>ax</th>\n",
       "      <th>ay</th>\n",
       "      <th>az</th>\n",
       "    </tr>\n",
       "  </thead>\n",
       "  <tbody>\n",
       "    <tr>\n",
       "      <th>153246</th>\n",
       "      <td>0.011281</td>\n",
       "      <td>-0.780762</td>\n",
       "      <td>-0.147369</td>\n",
       "      <td>-0.614380</td>\n",
       "    </tr>\n",
       "    <tr>\n",
       "      <th>153247</th>\n",
       "      <td>0.031235</td>\n",
       "      <td>-0.779297</td>\n",
       "      <td>-0.154694</td>\n",
       "      <td>-0.608978</td>\n",
       "    </tr>\n",
       "    <tr>\n",
       "      <th>153248</th>\n",
       "      <td>0.051194</td>\n",
       "      <td>-0.778336</td>\n",
       "      <td>-0.147324</td>\n",
       "      <td>-0.607544</td>\n",
       "    </tr>\n",
       "    <tr>\n",
       "      <th>153249</th>\n",
       "      <td>0.071148</td>\n",
       "      <td>-0.776856</td>\n",
       "      <td>-0.144867</td>\n",
       "      <td>-0.609024</td>\n",
       "    </tr>\n",
       "    <tr>\n",
       "      <th>153250</th>\n",
       "      <td>0.091204</td>\n",
       "      <td>-0.765518</td>\n",
       "      <td>-0.146866</td>\n",
       "      <td>-0.613815</td>\n",
       "    </tr>\n",
       "    <tr>\n",
       "      <th>...</th>\n",
       "      <td>...</td>\n",
       "      <td>...</td>\n",
       "      <td>...</td>\n",
       "      <td>...</td>\n",
       "    </tr>\n",
       "    <tr>\n",
       "      <th>1654286</th>\n",
       "      <td>30394.892956</td>\n",
       "      <td>1.001465</td>\n",
       "      <td>0.020187</td>\n",
       "      <td>-0.035706</td>\n",
       "    </tr>\n",
       "    <tr>\n",
       "      <th>1654287</th>\n",
       "      <td>30394.912894</td>\n",
       "      <td>1.001465</td>\n",
       "      <td>0.019684</td>\n",
       "      <td>-0.036667</td>\n",
       "    </tr>\n",
       "    <tr>\n",
       "      <th>1654288</th>\n",
       "      <td>30394.932836</td>\n",
       "      <td>1.002441</td>\n",
       "      <td>0.021667</td>\n",
       "      <td>-0.034729</td>\n",
       "    </tr>\n",
       "    <tr>\n",
       "      <th>1654289</th>\n",
       "      <td>30394.952839</td>\n",
       "      <td>1.001450</td>\n",
       "      <td>0.019699</td>\n",
       "      <td>-0.034729</td>\n",
       "    </tr>\n",
       "    <tr>\n",
       "      <th>1654290</th>\n",
       "      <td>30394.972818</td>\n",
       "      <td>1.000977</td>\n",
       "      <td>0.018707</td>\n",
       "      <td>-0.035690</td>\n",
       "    </tr>\n",
       "  </tbody>\n",
       "</table>\n",
       "<p>1501045 rows × 4 columns</p>\n",
       "</div>"
      ],
      "text/plain": [
       "         time_to_sleep        ax        ay        az\n",
       "153246        0.011281 -0.780762 -0.147369 -0.614380\n",
       "153247        0.031235 -0.779297 -0.154694 -0.608978\n",
       "153248        0.051194 -0.778336 -0.147324 -0.607544\n",
       "153249        0.071148 -0.776856 -0.144867 -0.609024\n",
       "153250        0.091204 -0.765518 -0.146866 -0.613815\n",
       "...                ...       ...       ...       ...\n",
       "1654286   30394.892956  1.001465  0.020187 -0.035706\n",
       "1654287   30394.912894  1.001465  0.019684 -0.036667\n",
       "1654288   30394.932836  1.002441  0.021667 -0.034729\n",
       "1654289   30394.952839  1.001450  0.019699 -0.034729\n",
       "1654290   30394.972818  1.000977  0.018707 -0.035690\n",
       "\n",
       "[1501045 rows x 4 columns]"
      ]
     },
     "execution_count": 32,
     "metadata": {},
     "output_type": "execute_result"
    }
   ],
   "source": [
    "participant_5498603_acc"
   ]
  },
  {
   "cell_type": "code",
   "execution_count": 33,
   "id": "17a890a6-fe08-41d6-95c3-7a1525afaaf4",
   "metadata": {
    "tags": []
   },
   "outputs": [
    {
     "data": {
      "text/html": [
       "<div>\n",
       "<style scoped>\n",
       "    .dataframe tbody tr th:only-of-type {\n",
       "        vertical-align: middle;\n",
       "    }\n",
       "\n",
       "    .dataframe tbody tr th {\n",
       "        vertical-align: top;\n",
       "    }\n",
       "\n",
       "    .dataframe thead th {\n",
       "        text-align: right;\n",
       "    }\n",
       "</style>\n",
       "<table border=\"1\" class=\"dataframe\">\n",
       "  <thead>\n",
       "    <tr style=\"text-align: right;\">\n",
       "      <th></th>\n",
       "      <th>time_to_sleep</th>\n",
       "      <th>ibi</th>\n",
       "    </tr>\n",
       "  </thead>\n",
       "  <tbody>\n",
       "    <tr>\n",
       "      <th>1244</th>\n",
       "      <td>5.16105</td>\n",
       "      <td>77</td>\n",
       "    </tr>\n",
       "    <tr>\n",
       "      <th>1245</th>\n",
       "      <td>10.16105</td>\n",
       "      <td>77</td>\n",
       "    </tr>\n",
       "    <tr>\n",
       "      <th>1246</th>\n",
       "      <td>11.16105</td>\n",
       "      <td>78</td>\n",
       "    </tr>\n",
       "    <tr>\n",
       "      <th>1247</th>\n",
       "      <td>20.16102</td>\n",
       "      <td>78</td>\n",
       "    </tr>\n",
       "    <tr>\n",
       "      <th>1248</th>\n",
       "      <td>25.16105</td>\n",
       "      <td>76</td>\n",
       "    </tr>\n",
       "    <tr>\n",
       "      <th>...</th>\n",
       "      <td>...</td>\n",
       "      <td>...</td>\n",
       "    </tr>\n",
       "    <tr>\n",
       "      <th>7031</th>\n",
       "      <td>30031.15763</td>\n",
       "      <td>100</td>\n",
       "    </tr>\n",
       "    <tr>\n",
       "      <th>7032</th>\n",
       "      <td>30033.15763</td>\n",
       "      <td>100</td>\n",
       "    </tr>\n",
       "    <tr>\n",
       "      <th>7033</th>\n",
       "      <td>30039.15763</td>\n",
       "      <td>100</td>\n",
       "    </tr>\n",
       "    <tr>\n",
       "      <th>7034</th>\n",
       "      <td>30048.15763</td>\n",
       "      <td>104</td>\n",
       "    </tr>\n",
       "    <tr>\n",
       "      <th>7035</th>\n",
       "      <td>30052.15763</td>\n",
       "      <td>104</td>\n",
       "    </tr>\n",
       "  </tbody>\n",
       "</table>\n",
       "<p>5792 rows × 2 columns</p>\n",
       "</div>"
      ],
      "text/plain": [
       "      time_to_sleep  ibi\n",
       "1244        5.16105   77\n",
       "1245       10.16105   77\n",
       "1246       11.16105   78\n",
       "1247       20.16102   78\n",
       "1248       25.16105   76\n",
       "...             ...  ...\n",
       "7031    30031.15763  100\n",
       "7032    30033.15763  100\n",
       "7033    30039.15763  100\n",
       "7034    30048.15763  104\n",
       "7035    30052.15763  104\n",
       "\n",
       "[5792 rows x 2 columns]"
      ]
     },
     "execution_count": 33,
     "metadata": {},
     "output_type": "execute_result"
    }
   ],
   "source": [
    "participant_5498603_ibi"
   ]
  },
  {
   "cell_type": "code",
   "execution_count": 35,
   "id": "1f1715f7-8c24-4221-a5b2-a252fa010630",
   "metadata": {
    "tags": []
   },
   "outputs": [],
   "source": [
    "merged_dataframe = pd.merge_asof( participant_5498603_acc.sort_values('time_to_sleep'),participant_5498603_ibi.sort_values('time_to_sleep'),on='time_to_sleep')"
   ]
  },
  {
   "cell_type": "code",
   "execution_count": 36,
   "id": "412f04ae-bcfb-48d0-a3f9-e9fdf17cf46b",
   "metadata": {
    "tags": []
   },
   "outputs": [],
   "source": [
    "merged_dataframe = pd.merge_asof(merged_dataframe ,participant_5498603_labels,on='time_to_sleep')"
   ]
  },
  {
   "cell_type": "code",
   "execution_count": 37,
   "id": "34f4feeb-e985-4946-b6fe-815ed22a3f19",
   "metadata": {
    "tags": []
   },
   "outputs": [
    {
     "data": {
      "text/html": [
       "<div>\n",
       "<style scoped>\n",
       "    .dataframe tbody tr th:only-of-type {\n",
       "        vertical-align: middle;\n",
       "    }\n",
       "\n",
       "    .dataframe tbody tr th {\n",
       "        vertical-align: top;\n",
       "    }\n",
       "\n",
       "    .dataframe thead th {\n",
       "        text-align: right;\n",
       "    }\n",
       "</style>\n",
       "<table border=\"1\" class=\"dataframe\">\n",
       "  <thead>\n",
       "    <tr style=\"text-align: right;\">\n",
       "      <th></th>\n",
       "      <th>time_to_sleep</th>\n",
       "      <th>ax</th>\n",
       "      <th>ay</th>\n",
       "      <th>az</th>\n",
       "      <th>ibi</th>\n",
       "      <th>sleep_stage</th>\n",
       "    </tr>\n",
       "  </thead>\n",
       "  <tbody>\n",
       "    <tr>\n",
       "      <th>1503</th>\n",
       "      <td>30.005565</td>\n",
       "      <td>-0.540466</td>\n",
       "      <td>-0.365982</td>\n",
       "      <td>-0.758743</td>\n",
       "      <td>76.0</td>\n",
       "      <td>-1.0</td>\n",
       "    </tr>\n",
       "    <tr>\n",
       "      <th>1504</th>\n",
       "      <td>30.025521</td>\n",
       "      <td>-0.542969</td>\n",
       "      <td>-0.357117</td>\n",
       "      <td>-0.754913</td>\n",
       "      <td>76.0</td>\n",
       "      <td>-1.0</td>\n",
       "    </tr>\n",
       "    <tr>\n",
       "      <th>1505</th>\n",
       "      <td>30.045546</td>\n",
       "      <td>-0.543930</td>\n",
       "      <td>-0.351746</td>\n",
       "      <td>-0.758850</td>\n",
       "      <td>76.0</td>\n",
       "      <td>-1.0</td>\n",
       "    </tr>\n",
       "    <tr>\n",
       "      <th>1506</th>\n",
       "      <td>30.065310</td>\n",
       "      <td>-0.544403</td>\n",
       "      <td>-0.350815</td>\n",
       "      <td>-0.764694</td>\n",
       "      <td>76.0</td>\n",
       "      <td>-1.0</td>\n",
       "    </tr>\n",
       "    <tr>\n",
       "      <th>1507</th>\n",
       "      <td>30.085397</td>\n",
       "      <td>-0.545395</td>\n",
       "      <td>-0.347366</td>\n",
       "      <td>-0.764725</td>\n",
       "      <td>76.0</td>\n",
       "      <td>-1.0</td>\n",
       "    </tr>\n",
       "    <tr>\n",
       "      <th>...</th>\n",
       "      <td>...</td>\n",
       "      <td>...</td>\n",
       "      <td>...</td>\n",
       "      <td>...</td>\n",
       "      <td>...</td>\n",
       "      <td>...</td>\n",
       "    </tr>\n",
       "    <tr>\n",
       "      <th>1501040</th>\n",
       "      <td>30394.892956</td>\n",
       "      <td>1.001465</td>\n",
       "      <td>0.020187</td>\n",
       "      <td>-0.035706</td>\n",
       "      <td>104.0</td>\n",
       "      <td>-1.0</td>\n",
       "    </tr>\n",
       "    <tr>\n",
       "      <th>1501041</th>\n",
       "      <td>30394.912894</td>\n",
       "      <td>1.001465</td>\n",
       "      <td>0.019684</td>\n",
       "      <td>-0.036667</td>\n",
       "      <td>104.0</td>\n",
       "      <td>-1.0</td>\n",
       "    </tr>\n",
       "    <tr>\n",
       "      <th>1501042</th>\n",
       "      <td>30394.932836</td>\n",
       "      <td>1.002441</td>\n",
       "      <td>0.021667</td>\n",
       "      <td>-0.034729</td>\n",
       "      <td>104.0</td>\n",
       "      <td>-1.0</td>\n",
       "    </tr>\n",
       "    <tr>\n",
       "      <th>1501043</th>\n",
       "      <td>30394.952839</td>\n",
       "      <td>1.001450</td>\n",
       "      <td>0.019699</td>\n",
       "      <td>-0.034729</td>\n",
       "      <td>104.0</td>\n",
       "      <td>-1.0</td>\n",
       "    </tr>\n",
       "    <tr>\n",
       "      <th>1501044</th>\n",
       "      <td>30394.972818</td>\n",
       "      <td>1.000977</td>\n",
       "      <td>0.018707</td>\n",
       "      <td>-0.035690</td>\n",
       "      <td>104.0</td>\n",
       "      <td>-1.0</td>\n",
       "    </tr>\n",
       "  </tbody>\n",
       "</table>\n",
       "<p>1499542 rows × 6 columns</p>\n",
       "</div>"
      ],
      "text/plain": [
       "         time_to_sleep        ax        ay        az    ibi  sleep_stage\n",
       "1503         30.005565 -0.540466 -0.365982 -0.758743   76.0         -1.0\n",
       "1504         30.025521 -0.542969 -0.357117 -0.754913   76.0         -1.0\n",
       "1505         30.045546 -0.543930 -0.351746 -0.758850   76.0         -1.0\n",
       "1506         30.065310 -0.544403 -0.350815 -0.764694   76.0         -1.0\n",
       "1507         30.085397 -0.545395 -0.347366 -0.764725   76.0         -1.0\n",
       "...                ...       ...       ...       ...    ...          ...\n",
       "1501040   30394.892956  1.001465  0.020187 -0.035706  104.0         -1.0\n",
       "1501041   30394.912894  1.001465  0.019684 -0.036667  104.0         -1.0\n",
       "1501042   30394.932836  1.002441  0.021667 -0.034729  104.0         -1.0\n",
       "1501043   30394.952839  1.001450  0.019699 -0.034729  104.0         -1.0\n",
       "1501044   30394.972818  1.000977  0.018707 -0.035690  104.0         -1.0\n",
       "\n",
       "[1499542 rows x 6 columns]"
      ]
     },
     "execution_count": 37,
     "metadata": {},
     "output_type": "execute_result"
    }
   ],
   "source": [
    "merged_dataframe[merged_dataframe['time_to_sleep']>30]"
   ]
  },
  {
   "cell_type": "code",
   "execution_count": null,
   "id": "a5b814d2-5158-46d6-b486-4182831ea954",
   "metadata": {},
   "outputs": [],
   "source": [
    "merged_dataframe = merged_dataframe.sample"
   ]
  },
  {
   "cell_type": "code",
   "execution_count": 38,
   "id": "45864402-e51b-410d-bc32-621e9d3d0d1f",
   "metadata": {
    "tags": []
   },
   "outputs": [],
   "source": [
    "scaler = StandardScaler()"
   ]
  },
  {
   "cell_type": "code",
   "execution_count": 39,
   "id": "12c78ae1-e70d-480b-b912-919759647a9e",
   "metadata": {
    "tags": []
   },
   "outputs": [],
   "source": [
    "merged_dataframe[['ax','ay','az','ibi']]=scaler.fit_transform(merged_dataframe[['ax','ay','az','ibi']])"
   ]
  },
  {
   "cell_type": "code",
   "execution_count": 40,
   "id": "8a452ce7-85ec-4b2b-ad29-70cb4484edf7",
   "metadata": {
    "tags": []
   },
   "outputs": [
    {
     "data": {
      "text/html": [
       "<div>\n",
       "<style scoped>\n",
       "    .dataframe tbody tr th:only-of-type {\n",
       "        vertical-align: middle;\n",
       "    }\n",
       "\n",
       "    .dataframe tbody tr th {\n",
       "        vertical-align: top;\n",
       "    }\n",
       "\n",
       "    .dataframe thead th {\n",
       "        text-align: right;\n",
       "    }\n",
       "</style>\n",
       "<table border=\"1\" class=\"dataframe\">\n",
       "  <thead>\n",
       "    <tr style=\"text-align: right;\">\n",
       "      <th></th>\n",
       "      <th>ax</th>\n",
       "      <th>ay</th>\n",
       "      <th>az</th>\n",
       "      <th>ibi</th>\n",
       "    </tr>\n",
       "  </thead>\n",
       "  <tbody>\n",
       "    <tr>\n",
       "      <th>0</th>\n",
       "      <td>-1.071497</td>\n",
       "      <td>-0.862493</td>\n",
       "      <td>0.015592</td>\n",
       "      <td>NaN</td>\n",
       "    </tr>\n",
       "    <tr>\n",
       "      <th>1</th>\n",
       "      <td>-1.068023</td>\n",
       "      <td>-0.878795</td>\n",
       "      <td>0.035803</td>\n",
       "      <td>NaN</td>\n",
       "    </tr>\n",
       "    <tr>\n",
       "      <th>2</th>\n",
       "      <td>-1.065743</td>\n",
       "      <td>-0.862391</td>\n",
       "      <td>0.041170</td>\n",
       "      <td>NaN</td>\n",
       "    </tr>\n",
       "    <tr>\n",
       "      <th>3</th>\n",
       "      <td>-1.062233</td>\n",
       "      <td>-0.856923</td>\n",
       "      <td>0.035632</td>\n",
       "      <td>NaN</td>\n",
       "    </tr>\n",
       "    <tr>\n",
       "      <th>4</th>\n",
       "      <td>-1.035347</td>\n",
       "      <td>-0.861372</td>\n",
       "      <td>0.017705</td>\n",
       "      <td>NaN</td>\n",
       "    </tr>\n",
       "    <tr>\n",
       "      <th>...</th>\n",
       "      <td>...</td>\n",
       "      <td>...</td>\n",
       "      <td>...</td>\n",
       "      <td>...</td>\n",
       "    </tr>\n",
       "    <tr>\n",
       "      <th>1501040</th>\n",
       "      <td>3.155035</td>\n",
       "      <td>-0.489549</td>\n",
       "      <td>2.180821</td>\n",
       "      <td>4.554712</td>\n",
       "    </tr>\n",
       "    <tr>\n",
       "      <th>1501041</th>\n",
       "      <td>3.155035</td>\n",
       "      <td>-0.490670</td>\n",
       "      <td>2.177224</td>\n",
       "      <td>4.554712</td>\n",
       "    </tr>\n",
       "    <tr>\n",
       "      <th>1501042</th>\n",
       "      <td>3.157351</td>\n",
       "      <td>-0.486255</td>\n",
       "      <td>2.184475</td>\n",
       "      <td>4.554712</td>\n",
       "    </tr>\n",
       "    <tr>\n",
       "      <th>1501043</th>\n",
       "      <td>3.154999</td>\n",
       "      <td>-0.490636</td>\n",
       "      <td>2.184475</td>\n",
       "      <td>4.554712</td>\n",
       "    </tr>\n",
       "    <tr>\n",
       "      <th>1501044</th>\n",
       "      <td>3.153878</td>\n",
       "      <td>-0.492844</td>\n",
       "      <td>2.180878</td>\n",
       "      <td>4.554712</td>\n",
       "    </tr>\n",
       "  </tbody>\n",
       "</table>\n",
       "<p>1501045 rows × 4 columns</p>\n",
       "</div>"
      ],
      "text/plain": [
       "               ax        ay        az       ibi\n",
       "0       -1.071497 -0.862493  0.015592       NaN\n",
       "1       -1.068023 -0.878795  0.035803       NaN\n",
       "2       -1.065743 -0.862391  0.041170       NaN\n",
       "3       -1.062233 -0.856923  0.035632       NaN\n",
       "4       -1.035347 -0.861372  0.017705       NaN\n",
       "...           ...       ...       ...       ...\n",
       "1501040  3.155035 -0.489549  2.180821  4.554712\n",
       "1501041  3.155035 -0.490670  2.177224  4.554712\n",
       "1501042  3.157351 -0.486255  2.184475  4.554712\n",
       "1501043  3.154999 -0.490636  2.184475  4.554712\n",
       "1501044  3.153878 -0.492844  2.180878  4.554712\n",
       "\n",
       "[1501045 rows x 4 columns]"
      ]
     },
     "execution_count": 40,
     "metadata": {},
     "output_type": "execute_result"
    }
   ],
   "source": [
    "merged_dataframe[['ax','ay','az','ibi']]"
   ]
  },
  {
   "cell_type": "code",
   "execution_count": 41,
   "id": "3632ef17-7565-4008-ac33-de41e3ceb3c8",
   "metadata": {
    "tags": []
   },
   "outputs": [
    {
     "data": {
      "image/png": "[encoded data removed]",
      "text/plain": [
       "<Figure size 432x288 with 1 Axes>"
      ]
     },
     "metadata": {
      "needs_background": "light"
     },
     "output_type": "display_data"
    }
   ],
   "source": [
    "plt.plot(merged_dataframe['time_to_sleep'],merged_dataframe['ax'],label='ax')\n",
    "plt.plot(merged_dataframe['time_to_sleep'],merged_dataframe['ay'],label='ay')\n",
    "plt.plot(merged_dataframe['time_to_sleep'],merged_dataframe['az'],label='az')\n",
    "plt.plot(merged_dataframe['time_to_sleep'],merged_dataframe['ibi'],label='ibi')\n",
    "plt.plot(merged_dataframe['time_to_sleep'],merged_dataframe['sleep_stage'],label='sleep_stage')\n",
    "plt.xlabel('time_asleep(s)')\n",
    "plt.ylabel('a in g)')\n",
    "plt.legend()\n",
    "plt.show()"
   ]
  },
  {
   "cell_type": "code",
   "execution_count": 42,
   "id": "c07bfdc4-fa0d-4ee7-9a74-a3074d29d9ef",
   "metadata": {},
   "outputs": [],
   "source": [
    "merged_dataframe=merged_dataframe[merged_dataframe['time_to_sleep']>30]"
   ]
  },
  {
   "cell_type": "code",
   "execution_count": 43,
   "id": "63569a65-bbb5-4464-8702-f26b9937003e",
   "metadata": {
    "tags": []
   },
   "outputs": [
    {
     "data": {
      "text/plain": [
       "Index(['time_to_sleep', 'ax', 'ay', 'az', 'ibi', 'sleep_stage'], dtype='object')"
      ]
     },
     "execution_count": 43,
     "metadata": {},
     "output_type": "execute_result"
    }
   ],
   "source": [
    "merged_dataframe.columns"
   ]
  },
  {
   "cell_type": "code",
   "execution_count": null,
   "id": "e861c695-c698-491b-856d-5c0e558d17b7",
   "metadata": {},
   "outputs": [],
   "source": []
  },
  {
   "cell_type": "code",
   "execution_count": 44,
   "id": "d464cdf4-cfdc-464b-a068-da323d36c436",
   "metadata": {
    "tags": []
   },
   "outputs": [],
   "source": [
    "next_thirty_seconds = merged_dataframe[(merged_dataframe['time_to_sleep'] > 30) & (merged_dataframe['time_to_sleep'] <= 60)]"
   ]
  },
  {
   "cell_type": "code",
   "execution_count": 45,
   "id": "e72da79b-ab04-43a4-951f-0032b1e92244",
   "metadata": {
    "tags": []
   },
   "outputs": [
    {
     "data": {
      "text/html": [
       "<div>\n",
       "<style scoped>\n",
       "    .dataframe tbody tr th:only-of-type {\n",
       "        vertical-align: middle;\n",
       "    }\n",
       "\n",
       "    .dataframe tbody tr th {\n",
       "        vertical-align: top;\n",
       "    }\n",
       "\n",
       "    .dataframe thead th {\n",
       "        text-align: right;\n",
       "    }\n",
       "</style>\n",
       "<table border=\"1\" class=\"dataframe\">\n",
       "  <thead>\n",
       "    <tr style=\"text-align: right;\">\n",
       "      <th></th>\n",
       "      <th>time_to_sleep</th>\n",
       "      <th>ax</th>\n",
       "      <th>ay</th>\n",
       "      <th>az</th>\n",
       "      <th>ibi</th>\n",
       "      <th>sleep_stage</th>\n",
       "    </tr>\n",
       "  </thead>\n",
       "  <tbody>\n",
       "    <tr>\n",
       "      <th>1503</th>\n",
       "      <td>30.005565</td>\n",
       "      <td>-0.501639</td>\n",
       "      <td>-1.349075</td>\n",
       "      <td>-0.524573</td>\n",
       "      <td>0.905459</td>\n",
       "      <td>-1.0</td>\n",
       "    </tr>\n",
       "    <tr>\n",
       "      <th>1504</th>\n",
       "      <td>30.025521</td>\n",
       "      <td>-0.507573</td>\n",
       "      <td>-1.329343</td>\n",
       "      <td>-0.510243</td>\n",
       "      <td>0.905459</td>\n",
       "      <td>-1.0</td>\n",
       "    </tr>\n",
       "    <tr>\n",
       "      <th>1505</th>\n",
       "      <td>30.045546</td>\n",
       "      <td>-0.509853</td>\n",
       "      <td>-1.317388</td>\n",
       "      <td>-0.524973</td>\n",
       "      <td>0.905459</td>\n",
       "      <td>-1.0</td>\n",
       "    </tr>\n",
       "    <tr>\n",
       "      <th>1506</th>\n",
       "      <td>30.065310</td>\n",
       "      <td>-0.510975</td>\n",
       "      <td>-1.315316</td>\n",
       "      <td>-0.546840</td>\n",
       "      <td>0.905459</td>\n",
       "      <td>-1.0</td>\n",
       "    </tr>\n",
       "    <tr>\n",
       "      <th>1507</th>\n",
       "      <td>30.085397</td>\n",
       "      <td>-0.513327</td>\n",
       "      <td>-1.307641</td>\n",
       "      <td>-0.546954</td>\n",
       "      <td>0.905459</td>\n",
       "      <td>-1.0</td>\n",
       "    </tr>\n",
       "    <tr>\n",
       "      <th>...</th>\n",
       "      <td>...</td>\n",
       "      <td>...</td>\n",
       "      <td>...</td>\n",
       "      <td>...</td>\n",
       "      <td>...</td>\n",
       "      <td>...</td>\n",
       "    </tr>\n",
       "    <tr>\n",
       "      <th>3002</th>\n",
       "      <td>59.917394</td>\n",
       "      <td>-0.651630</td>\n",
       "      <td>-1.029962</td>\n",
       "      <td>-0.538333</td>\n",
       "      <td>0.644798</td>\n",
       "      <td>-1.0</td>\n",
       "    </tr>\n",
       "    <tr>\n",
       "      <th>3003</th>\n",
       "      <td>59.937295</td>\n",
       "      <td>-0.646998</td>\n",
       "      <td>-1.014679</td>\n",
       "      <td>-0.543928</td>\n",
       "      <td>0.644798</td>\n",
       "      <td>-1.0</td>\n",
       "    </tr>\n",
       "    <tr>\n",
       "      <th>3004</th>\n",
       "      <td>59.957359</td>\n",
       "      <td>-0.648156</td>\n",
       "      <td>-1.010298</td>\n",
       "      <td>-0.540331</td>\n",
       "      <td>0.644798</td>\n",
       "      <td>-1.0</td>\n",
       "    </tr>\n",
       "    <tr>\n",
       "      <th>3005</th>\n",
       "      <td>59.977272</td>\n",
       "      <td>-0.651630</td>\n",
       "      <td>-1.001637</td>\n",
       "      <td>-0.562312</td>\n",
       "      <td>0.644798</td>\n",
       "      <td>-1.0</td>\n",
       "    </tr>\n",
       "    <tr>\n",
       "      <th>3006</th>\n",
       "      <td>59.997232</td>\n",
       "      <td>-0.651630</td>\n",
       "      <td>-1.006019</td>\n",
       "      <td>-0.560428</td>\n",
       "      <td>0.644798</td>\n",
       "      <td>-1.0</td>\n",
       "    </tr>\n",
       "  </tbody>\n",
       "</table>\n",
       "<p>1504 rows × 6 columns</p>\n",
       "</div>"
      ],
      "text/plain": [
       "      time_to_sleep        ax        ay        az       ibi  sleep_stage\n",
       "1503      30.005565 -0.501639 -1.349075 -0.524573  0.905459         -1.0\n",
       "1504      30.025521 -0.507573 -1.329343 -0.510243  0.905459         -1.0\n",
       "1505      30.045546 -0.509853 -1.317388 -0.524973  0.905459         -1.0\n",
       "1506      30.065310 -0.510975 -1.315316 -0.546840  0.905459         -1.0\n",
       "1507      30.085397 -0.513327 -1.307641 -0.546954  0.905459         -1.0\n",
       "...             ...       ...       ...       ...       ...          ...\n",
       "3002      59.917394 -0.651630 -1.029962 -0.538333  0.644798         -1.0\n",
       "3003      59.937295 -0.646998 -1.014679 -0.543928  0.644798         -1.0\n",
       "3004      59.957359 -0.648156 -1.010298 -0.540331  0.644798         -1.0\n",
       "3005      59.977272 -0.651630 -1.001637 -0.562312  0.644798         -1.0\n",
       "3006      59.997232 -0.651630 -1.006019 -0.560428  0.644798         -1.0\n",
       "\n",
       "[1504 rows x 6 columns]"
      ]
     },
     "execution_count": 45,
     "metadata": {},
     "output_type": "execute_result"
    }
   ],
   "source": [
    "next_thirty_seconds"
   ]
  },
  {
   "cell_type": "code",
   "execution_count": 50,
   "id": "55d16112-8922-4371-b168-336eccd1b2fa",
   "metadata": {
    "tags": []
   },
   "outputs": [
    {
     "data": {
      "text/html": [
       "<div>\n",
       "<style scoped>\n",
       "    .dataframe tbody tr th:only-of-type {\n",
       "        vertical-align: middle;\n",
       "    }\n",
       "\n",
       "    .dataframe tbody tr th {\n",
       "        vertical-align: top;\n",
       "    }\n",
       "\n",
       "    .dataframe thead th {\n",
       "        text-align: right;\n",
       "    }\n",
       "</style>\n",
       "<table border=\"1\" class=\"dataframe\">\n",
       "  <thead>\n",
       "    <tr style=\"text-align: right;\">\n",
       "      <th></th>\n",
       "      <th>time_to_sleep</th>\n",
       "      <th>ax</th>\n",
       "      <th>ay</th>\n",
       "      <th>az</th>\n",
       "      <th>ibi</th>\n",
       "      <th>sleep_stage</th>\n",
       "    </tr>\n",
       "  </thead>\n",
       "  <tbody>\n",
       "    <tr>\n",
       "      <th>5082</th>\n",
       "      <td>101.424165</td>\n",
       "      <td>-0.655140</td>\n",
       "      <td>-1.012506</td>\n",
       "      <td>-0.545812</td>\n",
       "      <td>-0.788837</td>\n",
       "      <td>-1.0</td>\n",
       "    </tr>\n",
       "    <tr>\n",
       "      <th>5812</th>\n",
       "      <td>115.989872</td>\n",
       "      <td>-0.645768</td>\n",
       "      <td>-0.999464</td>\n",
       "      <td>-0.565909</td>\n",
       "      <td>-0.658507</td>\n",
       "      <td>-1.0</td>\n",
       "    </tr>\n",
       "    <tr>\n",
       "      <th>4530</th>\n",
       "      <td>90.410377</td>\n",
       "      <td>-0.649242</td>\n",
       "      <td>-0.994064</td>\n",
       "      <td>-0.578755</td>\n",
       "      <td>-0.658507</td>\n",
       "      <td>-1.0</td>\n",
       "    </tr>\n",
       "    <tr>\n",
       "      <th>5136</th>\n",
       "      <td>102.501760</td>\n",
       "      <td>-0.639942</td>\n",
       "      <td>-0.997290</td>\n",
       "      <td>-0.564082</td>\n",
       "      <td>-0.788837</td>\n",
       "      <td>-1.0</td>\n",
       "    </tr>\n",
       "    <tr>\n",
       "      <th>5643</th>\n",
       "      <td>112.617584</td>\n",
       "      <td>-0.637626</td>\n",
       "      <td>-0.989649</td>\n",
       "      <td>-0.565966</td>\n",
       "      <td>-0.658507</td>\n",
       "      <td>-1.0</td>\n",
       "    </tr>\n",
       "    <tr>\n",
       "      <th>...</th>\n",
       "      <td>...</td>\n",
       "      <td>...</td>\n",
       "      <td>...</td>\n",
       "      <td>...</td>\n",
       "      <td>...</td>\n",
       "      <td>...</td>\n",
       "    </tr>\n",
       "    <tr>\n",
       "      <th>4540</th>\n",
       "      <td>90.609972</td>\n",
       "      <td>-0.645804</td>\n",
       "      <td>-1.002724</td>\n",
       "      <td>-0.558601</td>\n",
       "      <td>-0.658507</td>\n",
       "      <td>-1.0</td>\n",
       "    </tr>\n",
       "    <tr>\n",
       "      <th>5166</th>\n",
       "      <td>103.100283</td>\n",
       "      <td>-0.643452</td>\n",
       "      <td>-0.991822</td>\n",
       "      <td>-0.567793</td>\n",
       "      <td>-0.788837</td>\n",
       "      <td>-1.0</td>\n",
       "    </tr>\n",
       "    <tr>\n",
       "      <th>4847</th>\n",
       "      <td>96.735295</td>\n",
       "      <td>-0.642294</td>\n",
       "      <td>-0.989615</td>\n",
       "      <td>-0.564196</td>\n",
       "      <td>-0.788837</td>\n",
       "      <td>-1.0</td>\n",
       "    </tr>\n",
       "    <tr>\n",
       "      <th>4889</th>\n",
       "      <td>97.573549</td>\n",
       "      <td>-0.649314</td>\n",
       "      <td>-0.993962</td>\n",
       "      <td>-0.558715</td>\n",
       "      <td>-0.788837</td>\n",
       "      <td>-1.0</td>\n",
       "    </tr>\n",
       "    <tr>\n",
       "      <th>5095</th>\n",
       "      <td>101.683810</td>\n",
       "      <td>-0.649242</td>\n",
       "      <td>-1.022423</td>\n",
       "      <td>-0.563911</td>\n",
       "      <td>-0.788837</td>\n",
       "      <td>-1.0</td>\n",
       "    </tr>\n",
       "  </tbody>\n",
       "</table>\n",
       "<p>1490 rows × 6 columns</p>\n",
       "</div>"
      ],
      "text/plain": [
       "      time_to_sleep        ax        ay        az       ibi  sleep_stage\n",
       "5082     101.424165 -0.655140 -1.012506 -0.545812 -0.788837         -1.0\n",
       "5812     115.989872 -0.645768 -0.999464 -0.565909 -0.658507         -1.0\n",
       "4530      90.410377 -0.649242 -0.994064 -0.578755 -0.658507         -1.0\n",
       "5136     102.501760 -0.639942 -0.997290 -0.564082 -0.788837         -1.0\n",
       "5643     112.617584 -0.637626 -0.989649 -0.565966 -0.658507         -1.0\n",
       "...             ...       ...       ...       ...       ...          ...\n",
       "4540      90.609972 -0.645804 -1.002724 -0.558601 -0.658507         -1.0\n",
       "5166     103.100283 -0.643452 -0.991822 -0.567793 -0.788837         -1.0\n",
       "4847      96.735295 -0.642294 -0.989615 -0.564196 -0.788837         -1.0\n",
       "4889      97.573549 -0.649314 -0.993962 -0.558715 -0.788837         -1.0\n",
       "5095     101.683810 -0.649242 -1.022423 -0.563911 -0.788837         -1.0\n",
       "\n",
       "[1490 rows x 6 columns]"
      ]
     },
     "execution_count": 50,
     "metadata": {},
     "output_type": "execute_result"
    }
   ],
   "source": [
    "next_thirty_seconds.sample(1490)"
   ]
  },
  {
   "cell_type": "code",
   "execution_count": 60,
   "id": "8adde37f-5df1-4e1c-bac5-3851c25b21b0",
   "metadata": {
    "tags": []
   },
   "outputs": [
    {
     "data": {
      "text/plain": [
       "1501044    30394.972818\n",
       "Name: time_to_sleep, dtype: float64"
      ]
     },
     "execution_count": 60,
     "metadata": {},
     "output_type": "execute_result"
    }
   ],
   "source": [
    "merged_dataframe.tail(1)['time_to_sleep']"
   ]
  },
  {
   "cell_type": "code",
   "execution_count": 62,
   "id": "33621343-651a-491b-bcb5-97c6048ac9d1",
   "metadata": {
    "tags": []
   },
   "outputs": [
    {
     "name": "stdout",
     "output_type": "stream",
     "text": [
      "30\n",
      "60\n",
      "30390\n"
     ]
    }
   ],
   "source": [
    "for i in range(30,30394,30):\n",
    "    if i<90:\n",
    "        print(i)\n",
    "    if i >= 30390:\n",
    "        print(i)\n"
   ]
  },
  {
   "cell_type": "code",
   "execution_count": 48,
   "id": "bada2dd8-e38e-462c-a38e-9eb43ceb3be0",
   "metadata": {
    "tags": []
   },
   "outputs": [],
   "source": [
    "next_thirty_seconds = merged_dataframe[(merged_dataframe['time_to_sleep'] > 90) & (merged_dataframe['time_to_sleep'] <= 120)]"
   ]
  },
  {
   "cell_type": "code",
   "execution_count": 49,
   "id": "7ff2eba9-3e91-4d53-afa3-4831ab9606ba",
   "metadata": {
    "tags": []
   },
   "outputs": [
    {
     "data": {
      "text/html": [
       "<div>\n",
       "<style scoped>\n",
       "    .dataframe tbody tr th:only-of-type {\n",
       "        vertical-align: middle;\n",
       "    }\n",
       "\n",
       "    .dataframe tbody tr th {\n",
       "        vertical-align: top;\n",
       "    }\n",
       "\n",
       "    .dataframe thead th {\n",
       "        text-align: right;\n",
       "    }\n",
       "</style>\n",
       "<table border=\"1\" class=\"dataframe\">\n",
       "  <thead>\n",
       "    <tr style=\"text-align: right;\">\n",
       "      <th></th>\n",
       "      <th>time_to_sleep</th>\n",
       "      <th>ax</th>\n",
       "      <th>ay</th>\n",
       "      <th>az</th>\n",
       "      <th>ibi</th>\n",
       "      <th>sleep_stage</th>\n",
       "    </tr>\n",
       "  </thead>\n",
       "  <tbody>\n",
       "    <tr>\n",
       "      <th>4510</th>\n",
       "      <td>90.011324</td>\n",
       "      <td>-0.655212</td>\n",
       "      <td>-1.001536</td>\n",
       "      <td>-0.538675</td>\n",
       "      <td>-0.658507</td>\n",
       "      <td>-1.0</td>\n",
       "    </tr>\n",
       "    <tr>\n",
       "      <th>4511</th>\n",
       "      <td>90.031253</td>\n",
       "      <td>-0.655140</td>\n",
       "      <td>-0.998343</td>\n",
       "      <td>-0.553292</td>\n",
       "      <td>-0.658507</td>\n",
       "      <td>-1.0</td>\n",
       "    </tr>\n",
       "    <tr>\n",
       "      <th>4512</th>\n",
       "      <td>90.051260</td>\n",
       "      <td>-0.649278</td>\n",
       "      <td>-1.012573</td>\n",
       "      <td>-0.558544</td>\n",
       "      <td>-0.658507</td>\n",
       "      <td>-1.0</td>\n",
       "    </tr>\n",
       "    <tr>\n",
       "      <th>4513</th>\n",
       "      <td>90.071146</td>\n",
       "      <td>-0.649314</td>\n",
       "      <td>-1.007071</td>\n",
       "      <td>-0.553120</td>\n",
       "      <td>-0.658507</td>\n",
       "      <td>-1.0</td>\n",
       "    </tr>\n",
       "    <tr>\n",
       "      <th>4514</th>\n",
       "      <td>90.091116</td>\n",
       "      <td>-0.650363</td>\n",
       "      <td>-1.014815</td>\n",
       "      <td>-0.576757</td>\n",
       "      <td>-0.658507</td>\n",
       "      <td>-1.0</td>\n",
       "    </tr>\n",
       "    <tr>\n",
       "      <th>...</th>\n",
       "      <td>...</td>\n",
       "      <td>...</td>\n",
       "      <td>...</td>\n",
       "      <td>...</td>\n",
       "      <td>...</td>\n",
       "      <td>...</td>\n",
       "    </tr>\n",
       "    <tr>\n",
       "      <th>6008</th>\n",
       "      <td>119.900699</td>\n",
       "      <td>-0.653910</td>\n",
       "      <td>-1.024596</td>\n",
       "      <td>-0.556603</td>\n",
       "      <td>-0.397846</td>\n",
       "      <td>-1.0</td>\n",
       "    </tr>\n",
       "    <tr>\n",
       "      <th>6009</th>\n",
       "      <td>119.920644</td>\n",
       "      <td>-0.663318</td>\n",
       "      <td>-0.987407</td>\n",
       "      <td>-0.557117</td>\n",
       "      <td>-0.397846</td>\n",
       "      <td>-1.0</td>\n",
       "    </tr>\n",
       "    <tr>\n",
       "      <th>6010</th>\n",
       "      <td>119.940588</td>\n",
       "      <td>-0.663354</td>\n",
       "      <td>-0.981939</td>\n",
       "      <td>-0.557174</td>\n",
       "      <td>-0.397846</td>\n",
       "      <td>-1.0</td>\n",
       "    </tr>\n",
       "    <tr>\n",
       "      <th>6011</th>\n",
       "      <td>119.960496</td>\n",
       "      <td>-0.656334</td>\n",
       "      <td>-1.001569</td>\n",
       "      <td>-0.547753</td>\n",
       "      <td>-0.397846</td>\n",
       "      <td>-1.0</td>\n",
       "    </tr>\n",
       "    <tr>\n",
       "      <th>6012</th>\n",
       "      <td>119.980524</td>\n",
       "      <td>-0.649314</td>\n",
       "      <td>-1.027789</td>\n",
       "      <td>-0.538333</td>\n",
       "      <td>-0.397846</td>\n",
       "      <td>-1.0</td>\n",
       "    </tr>\n",
       "  </tbody>\n",
       "</table>\n",
       "<p>1503 rows × 6 columns</p>\n",
       "</div>"
      ],
      "text/plain": [
       "      time_to_sleep        ax        ay        az       ibi  sleep_stage\n",
       "4510      90.011324 -0.655212 -1.001536 -0.538675 -0.658507         -1.0\n",
       "4511      90.031253 -0.655140 -0.998343 -0.553292 -0.658507         -1.0\n",
       "4512      90.051260 -0.649278 -1.012573 -0.558544 -0.658507         -1.0\n",
       "4513      90.071146 -0.649314 -1.007071 -0.553120 -0.658507         -1.0\n",
       "4514      90.091116 -0.650363 -1.014815 -0.576757 -0.658507         -1.0\n",
       "...             ...       ...       ...       ...       ...          ...\n",
       "6008     119.900699 -0.653910 -1.024596 -0.556603 -0.397846         -1.0\n",
       "6009     119.920644 -0.663318 -0.987407 -0.557117 -0.397846         -1.0\n",
       "6010     119.940588 -0.663354 -0.981939 -0.557174 -0.397846         -1.0\n",
       "6011     119.960496 -0.656334 -1.001569 -0.547753 -0.397846         -1.0\n",
       "6012     119.980524 -0.649314 -1.027789 -0.538333 -0.397846         -1.0\n",
       "\n",
       "[1503 rows x 6 columns]"
      ]
     },
     "execution_count": 49,
     "metadata": {},
     "output_type": "execute_result"
    }
   ],
   "source": [
    "next_thirty_seconds"
   ]
  },
  {
   "cell_type": "code",
   "execution_count": 33,
   "id": "2db10aa0-2759-46ad-95ca-fa0ff6d927d5",
   "metadata": {},
   "outputs": [],
   "source": [
    "df=merged_dataframe"
   ]
  },
  {
   "cell_type": "code",
   "execution_count": 72,
   "id": "dd3f9f2b-f0c1-46ba-9d13-f38c1661ad61",
   "metadata": {
    "tags": []
   },
   "outputs": [
    {
     "name": "stdout",
     "output_type": "stream",
     "text": [
      "ConvNet(\n",
      "  (conv1): Conv1d(1, 256, kernel_size=(5,), stride=(1,), padding=(2,))\n",
      "  (pool1): MaxPool1d(kernel_size=5, stride=2, padding=2, dilation=1, ceil_mode=False)\n",
      "  (conv2): Conv1d(256, 256, kernel_size=(5,), stride=(1,), padding=(2,))\n",
      "  (pool2): MaxPool1d(kernel_size=5, stride=2, padding=2, dilation=1, ceil_mode=False)\n",
      "  (conv3): Conv1d(256, 128, kernel_size=(5,), stride=(1,), padding=(2,))\n",
      "  (pool3): MaxPool1d(kernel_size=5, stride=2, padding=2, dilation=1, ceil_mode=False)\n",
      "  (dropout1): Dropout(p=0.2, inplace=False)\n",
      "  (conv4): Conv1d(128, 64, kernel_size=(5,), stride=(1,), padding=(2,))\n",
      "  (pool4): MaxPool1d(kernel_size=5, stride=2, padding=2, dilation=1, ceil_mode=False)\n",
      "  (flatten): Flatten(start_dim=1, end_dim=-1)\n",
      "  (fc1): Linear(in_features=13056, out_features=32, bias=True)\n",
      "  (dropout2): Dropout(p=0.3, inplace=False)\n",
      "  (fc2): Linear(in_features=32, out_features=1, bias=True)\n",
      "  (softmax): Softmax(dim=1)\n",
      ")\n"
     ]
    }
   ],
   "source": [
    "import torch\n",
    "import torch.nn as nn\n",
    "\n",
    "class ConvNet(nn.Module):\n",
    "    def __init__(self):\n",
    "        super(ConvNet, self).__init__()\n",
    "        \n",
    "        self.conv1 = nn.Conv1d(1, 256, kernel_size=5, stride=1, padding=2)  # 'same' padding\n",
    "        self.pool1 = nn.MaxPool1d(kernel_size=5, stride=2, padding=2)  # 'same' padding\n",
    "        \n",
    "        self.conv2 = nn.Conv1d(256, 256, kernel_size=5, stride=1, padding=2)  # 'same' padding\n",
    "        self.pool2 = nn.MaxPool1d(kernel_size=5, stride=2, padding=2)  # 'same' padding\n",
    "        \n",
    "        self.conv3 = nn.Conv1d(256, 128, kernel_size=5, stride=1, padding=2)  # 'same' padding\n",
    "        self.pool3 = nn.MaxPool1d(kernel_size=5, stride=2, padding=2)  # 'same' padding\n",
    "        self.dropout1 = nn.Dropout(0.2)\n",
    "        \n",
    "        self.conv4 = nn.Conv1d(128, 64, kernel_size=5, stride=1, padding=2)  # 'same' padding\n",
    "        self.pool4 = nn.MaxPool1d(kernel_size=5, stride=2, padding=2)  # 'same' padding\n",
    "        \n",
    "        self.flatten = nn.Flatten()\n",
    "        self.fc1 = nn.Linear(256 * 51, 32)\n",
    "        self.dropout2 = nn.Dropout(0.3)\n",
    "        self.fc2 = nn.Linear(32, 1)\n",
    "        self.softmax = nn.Softmax(dim=1)  # Softmax along dimension 1 (each row)\n",
    "    \n",
    "    def forward(self, x):\n",
    "        x = torch.unsqueeze(x, 1)  # Add channel dimension\n",
    "        x = torch.relu(self.conv1(x))\n",
    "        x = self.pool1(x)\n",
    "        x = torch.relu(self.conv2(x))\n",
    "        x = self.pool2(x)\n",
    "        x = torch.relu(self.conv3(x))\n",
    "        x = self.pool3(x)\n",
    "        x = self.dropout1(x)\n",
    "        x = torch.relu(self.conv4(x))\n",
    "        x = self.pool4(x)\n",
    "        x = self.flatten(x)\n",
    "        x = torch.relu(self.fc1(x))\n",
    "        x = self.dropout2(x)\n",
    "        x = self.fc2(x)\n",
    "        x = self.softmax(x)\n",
    "        return x\n",
    "\n",
    "# Create an instance of the model\n",
    "model = ConvNet()\n",
    "\n",
    "# Print model summary\n",
    "print(model)\n"
   ]
  },
  {
   "cell_type": "code",
   "execution_count": 61,
   "id": "f1e0fb0a-b738-4785-9452-a3fdd524331f",
   "metadata": {},
   "outputs": [
    {
     "data": {
      "text/plain": [
       "1499      -1.0\n",
       "1500      -1.0\n",
       "1501      -1.0\n",
       "1502      -1.0\n",
       "1503      -1.0\n",
       "          ... \n",
       "1268821   -1.0\n",
       "1268822   -1.0\n",
       "1268823   -1.0\n",
       "1268824   -1.0\n",
       "1268825   -1.0\n",
       "Name: sleep_stage, Length: 1267327, dtype: float64"
      ]
     },
     "execution_count": 61,
     "metadata": {},
     "output_type": "execute_result"
    }
   ],
   "source": [
    "df['sleep_stage']"
   ]
  },
  {
   "cell_type": "code",
   "execution_count": 79,
   "id": "4138ddcf-9c82-4315-bd3c-3accb5e096c8",
   "metadata": {
    "tags": []
   },
   "outputs": [],
   "source": [
    "import numpy as np\n",
    "import torch\n",
    "import torch.nn as nn\n",
    "from torch.utils.data import DataLoader, TensorDataset\n",
    "\n",
    "# Assuming your DataFrame is named 'df'\n",
    "\n",
    "# Drop rows with NaN values in the 'sleep_stage' column\n",
    "df = df.dropna(subset=['sleep_stage'])\n",
    "\n",
    "# Extract features and labels\n",
    "features = df[['ax', 'ay', 'az', 'ibi']].values  # Assuming 'ax', 'ay', 'az', and 'ibi' are the features\n",
    "labels = df['sleep_stage'].values  # Assuming 'sleep_stage' is the label column\n",
    "\n",
    "# Reshape features into 3D array (num_samples, num_timesteps, num_features)\n",
    "num_samples = len(df) // 30  # Number of 30-second epochs\n",
    "num_timesteps = 30  # 30 seconds per epoch\n",
    "num_features = features.shape[1]  # Number of features\n",
    "\n",
    "features_3d = features[:num_samples * num_timesteps].reshape(num_samples, num_timesteps, num_features)\n",
    "\n",
    "# Convert labels to one-hot encoding\n",
    "num_classes = len(df['sleep_stage'].unique())\n",
    "labels_onehot = np.zeros((len(labels), num_classes))\n",
    "\n",
    "# Filter out NaN values from labels\n",
    "valid_labels_mask = ~np.isnan(labels)\n",
    "valid_labels = labels[valid_labels_mask]\n",
    "\n",
    "# Convert valid labels to one-hot encoding\n",
    "labels_onehot[np.arange(len(valid_labels)), valid_labels.astype(int)] = 1\n",
    "\n",
    "# Convert labels to PyTorch tensor\n",
    "labels_tensor = torch.tensor(labels_onehot, dtype=torch.float32)\n",
    "\n",
    "# Convert features to PyTorch tensor\n",
    "features_tensor = torch.tensor(features_3d, dtype=torch.float32)\n",
    "class_indices = torch.argmax(labels_tensor, dim=1)\n",
    "\n",
    "# Define your neural network, loss function, optimizer, and training loop (same as previous code snippet)\n"
   ]
  },
  {
   "cell_type": "code",
   "execution_count": 60,
   "id": "200d41d8-a468-4faa-b78c-885a21ea90a8",
   "metadata": {
    "tags": []
   },
   "outputs": [
    {
     "data": {
      "text/plain": [
       "-1.0"
      ]
     },
     "execution_count": 60,
     "metadata": {},
     "output_type": "execute_result"
    }
   ],
   "source": [
    "labels[500]"
   ]
  },
  {
   "cell_type": "code",
   "execution_count": 81,
   "id": "7a86a8c5-0731-43ff-9411-a1bb8c2d8476",
   "metadata": {
    "tags": []
   },
   "outputs": [
    {
     "ename": "RuntimeError",
     "evalue": "Given groups=1, weight of size [256, 4, 5], expected input[42244, 30, 4] to have 4 channels, but got 30 channels instead",
     "output_type": "error",
     "traceback": [
      "\u001b[0;31m---------------------------------------------------------------------------\u001b[0m",
      "\u001b[0;31mRuntimeError\u001b[0m                              Traceback (most recent call last)",
      "Input \u001b[0;32mIn [81]\u001b[0m, in \u001b[0;36m<cell line: 54>\u001b[0;34m()\u001b[0m\n\u001b[1;32m     52\u001b[0m num_epochs \u001b[38;5;241m=\u001b[39m \u001b[38;5;241m10\u001b[39m  \u001b[38;5;66;03m# Adjust as needed\u001b[39;00m\n\u001b[1;32m     54\u001b[0m \u001b[38;5;28;01mfor\u001b[39;00m epoch \u001b[38;5;129;01min\u001b[39;00m \u001b[38;5;28mrange\u001b[39m(num_epochs):\n\u001b[1;32m     55\u001b[0m     \u001b[38;5;66;03m# Forward pass\u001b[39;00m\n\u001b[0;32m---> 56\u001b[0m     outputs \u001b[38;5;241m=\u001b[39m \u001b[43mmodel\u001b[49m\u001b[43m(\u001b[49m\u001b[43mfeatures_tensor\u001b[49m\u001b[43m)\u001b[49m\n\u001b[1;32m     58\u001b[0m     \u001b[38;5;66;03m# Convert one-hot encoded labels tensor to class indices\u001b[39;00m\n\u001b[1;32m     59\u001b[0m     class_indices \u001b[38;5;241m=\u001b[39m torch\u001b[38;5;241m.\u001b[39margmax(labels_tensor, dim\u001b[38;5;241m=\u001b[39m\u001b[38;5;241m1\u001b[39m)\n",
      "File \u001b[0;32m/opt/nesi/CS400_centos7_bdw/PyTorch/1.12.1-gimkl-2022a-Python-3.10.5-CUDA-11.6.2/lib/python3.10/site-packages/torch/nn/modules/module.py:1130\u001b[0m, in \u001b[0;36mModule._call_impl\u001b[0;34m(self, *input, **kwargs)\u001b[0m\n\u001b[1;32m   1126\u001b[0m \u001b[38;5;66;03m# If we don't have any hooks, we want to skip the rest of the logic in\u001b[39;00m\n\u001b[1;32m   1127\u001b[0m \u001b[38;5;66;03m# this function, and just call forward.\u001b[39;00m\n\u001b[1;32m   1128\u001b[0m \u001b[38;5;28;01mif\u001b[39;00m \u001b[38;5;129;01mnot\u001b[39;00m (\u001b[38;5;28mself\u001b[39m\u001b[38;5;241m.\u001b[39m_backward_hooks \u001b[38;5;129;01mor\u001b[39;00m \u001b[38;5;28mself\u001b[39m\u001b[38;5;241m.\u001b[39m_forward_hooks \u001b[38;5;129;01mor\u001b[39;00m \u001b[38;5;28mself\u001b[39m\u001b[38;5;241m.\u001b[39m_forward_pre_hooks \u001b[38;5;129;01mor\u001b[39;00m _global_backward_hooks\n\u001b[1;32m   1129\u001b[0m         \u001b[38;5;129;01mor\u001b[39;00m _global_forward_hooks \u001b[38;5;129;01mor\u001b[39;00m _global_forward_pre_hooks):\n\u001b[0;32m-> 1130\u001b[0m     \u001b[38;5;28;01mreturn\u001b[39;00m \u001b[43mforward_call\u001b[49m\u001b[43m(\u001b[49m\u001b[38;5;241;43m*\u001b[39;49m\u001b[38;5;28;43minput\u001b[39;49m\u001b[43m,\u001b[49m\u001b[43m \u001b[49m\u001b[38;5;241;43m*\u001b[39;49m\u001b[38;5;241;43m*\u001b[39;49m\u001b[43mkwargs\u001b[49m\u001b[43m)\u001b[49m\n\u001b[1;32m   1131\u001b[0m \u001b[38;5;66;03m# Do not call functions when jit is used\u001b[39;00m\n\u001b[1;32m   1132\u001b[0m full_backward_hooks, non_full_backward_hooks \u001b[38;5;241m=\u001b[39m [], []\n",
      "Input \u001b[0;32mIn [81]\u001b[0m, in \u001b[0;36mSleepStagePredictionNet.forward\u001b[0;34m(self, x)\u001b[0m\n\u001b[1;32m     24\u001b[0m \u001b[38;5;28;01mdef\u001b[39;00m \u001b[38;5;21mforward\u001b[39m(\u001b[38;5;28mself\u001b[39m, x):\n\u001b[0;32m---> 25\u001b[0m     x \u001b[38;5;241m=\u001b[39m torch\u001b[38;5;241m.\u001b[39mrelu(\u001b[38;5;28;43mself\u001b[39;49m\u001b[38;5;241;43m.\u001b[39;49m\u001b[43mconv1\u001b[49m\u001b[43m(\u001b[49m\u001b[43mx\u001b[49m\u001b[43m)\u001b[49m)\n\u001b[1;32m     26\u001b[0m     x \u001b[38;5;241m=\u001b[39m \u001b[38;5;28mself\u001b[39m\u001b[38;5;241m.\u001b[39mpool1(x)\n\u001b[1;32m     27\u001b[0m     x \u001b[38;5;241m=\u001b[39m torch\u001b[38;5;241m.\u001b[39mrelu(\u001b[38;5;28mself\u001b[39m\u001b[38;5;241m.\u001b[39mconv2(x))\n",
      "File \u001b[0;32m/opt/nesi/CS400_centos7_bdw/PyTorch/1.12.1-gimkl-2022a-Python-3.10.5-CUDA-11.6.2/lib/python3.10/site-packages/torch/nn/modules/module.py:1130\u001b[0m, in \u001b[0;36mModule._call_impl\u001b[0;34m(self, *input, **kwargs)\u001b[0m\n\u001b[1;32m   1126\u001b[0m \u001b[38;5;66;03m# If we don't have any hooks, we want to skip the rest of the logic in\u001b[39;00m\n\u001b[1;32m   1127\u001b[0m \u001b[38;5;66;03m# this function, and just call forward.\u001b[39;00m\n\u001b[1;32m   1128\u001b[0m \u001b[38;5;28;01mif\u001b[39;00m \u001b[38;5;129;01mnot\u001b[39;00m (\u001b[38;5;28mself\u001b[39m\u001b[38;5;241m.\u001b[39m_backward_hooks \u001b[38;5;129;01mor\u001b[39;00m \u001b[38;5;28mself\u001b[39m\u001b[38;5;241m.\u001b[39m_forward_hooks \u001b[38;5;129;01mor\u001b[39;00m \u001b[38;5;28mself\u001b[39m\u001b[38;5;241m.\u001b[39m_forward_pre_hooks \u001b[38;5;129;01mor\u001b[39;00m _global_backward_hooks\n\u001b[1;32m   1129\u001b[0m         \u001b[38;5;129;01mor\u001b[39;00m _global_forward_hooks \u001b[38;5;129;01mor\u001b[39;00m _global_forward_pre_hooks):\n\u001b[0;32m-> 1130\u001b[0m     \u001b[38;5;28;01mreturn\u001b[39;00m \u001b[43mforward_call\u001b[49m\u001b[43m(\u001b[49m\u001b[38;5;241;43m*\u001b[39;49m\u001b[38;5;28;43minput\u001b[39;49m\u001b[43m,\u001b[49m\u001b[43m \u001b[49m\u001b[38;5;241;43m*\u001b[39;49m\u001b[38;5;241;43m*\u001b[39;49m\u001b[43mkwargs\u001b[49m\u001b[43m)\u001b[49m\n\u001b[1;32m   1131\u001b[0m \u001b[38;5;66;03m# Do not call functions when jit is used\u001b[39;00m\n\u001b[1;32m   1132\u001b[0m full_backward_hooks, non_full_backward_hooks \u001b[38;5;241m=\u001b[39m [], []\n",
      "File \u001b[0;32m/opt/nesi/CS400_centos7_bdw/PyTorch/1.12.1-gimkl-2022a-Python-3.10.5-CUDA-11.6.2/lib/python3.10/site-packages/torch/nn/modules/conv.py:307\u001b[0m, in \u001b[0;36mConv1d.forward\u001b[0;34m(self, input)\u001b[0m\n\u001b[1;32m    306\u001b[0m \u001b[38;5;28;01mdef\u001b[39;00m \u001b[38;5;21mforward\u001b[39m(\u001b[38;5;28mself\u001b[39m, \u001b[38;5;28minput\u001b[39m: Tensor) \u001b[38;5;241m-\u001b[39m\u001b[38;5;241m>\u001b[39m Tensor:\n\u001b[0;32m--> 307\u001b[0m     \u001b[38;5;28;01mreturn\u001b[39;00m \u001b[38;5;28;43mself\u001b[39;49m\u001b[38;5;241;43m.\u001b[39;49m\u001b[43m_conv_forward\u001b[49m\u001b[43m(\u001b[49m\u001b[38;5;28;43minput\u001b[39;49m\u001b[43m,\u001b[49m\u001b[43m \u001b[49m\u001b[38;5;28;43mself\u001b[39;49m\u001b[38;5;241;43m.\u001b[39;49m\u001b[43mweight\u001b[49m\u001b[43m,\u001b[49m\u001b[43m \u001b[49m\u001b[38;5;28;43mself\u001b[39;49m\u001b[38;5;241;43m.\u001b[39;49m\u001b[43mbias\u001b[49m\u001b[43m)\u001b[49m\n",
      "File \u001b[0;32m/opt/nesi/CS400_centos7_bdw/PyTorch/1.12.1-gimkl-2022a-Python-3.10.5-CUDA-11.6.2/lib/python3.10/site-packages/torch/nn/modules/conv.py:303\u001b[0m, in \u001b[0;36mConv1d._conv_forward\u001b[0;34m(self, input, weight, bias)\u001b[0m\n\u001b[1;32m    299\u001b[0m \u001b[38;5;28;01mif\u001b[39;00m \u001b[38;5;28mself\u001b[39m\u001b[38;5;241m.\u001b[39mpadding_mode \u001b[38;5;241m!=\u001b[39m \u001b[38;5;124m'\u001b[39m\u001b[38;5;124mzeros\u001b[39m\u001b[38;5;124m'\u001b[39m:\n\u001b[1;32m    300\u001b[0m     \u001b[38;5;28;01mreturn\u001b[39;00m F\u001b[38;5;241m.\u001b[39mconv1d(F\u001b[38;5;241m.\u001b[39mpad(\u001b[38;5;28minput\u001b[39m, \u001b[38;5;28mself\u001b[39m\u001b[38;5;241m.\u001b[39m_reversed_padding_repeated_twice, mode\u001b[38;5;241m=\u001b[39m\u001b[38;5;28mself\u001b[39m\u001b[38;5;241m.\u001b[39mpadding_mode),\n\u001b[1;32m    301\u001b[0m                     weight, bias, \u001b[38;5;28mself\u001b[39m\u001b[38;5;241m.\u001b[39mstride,\n\u001b[1;32m    302\u001b[0m                     _single(\u001b[38;5;241m0\u001b[39m), \u001b[38;5;28mself\u001b[39m\u001b[38;5;241m.\u001b[39mdilation, \u001b[38;5;28mself\u001b[39m\u001b[38;5;241m.\u001b[39mgroups)\n\u001b[0;32m--> 303\u001b[0m \u001b[38;5;28;01mreturn\u001b[39;00m \u001b[43mF\u001b[49m\u001b[38;5;241;43m.\u001b[39;49m\u001b[43mconv1d\u001b[49m\u001b[43m(\u001b[49m\u001b[38;5;28;43minput\u001b[39;49m\u001b[43m,\u001b[49m\u001b[43m \u001b[49m\u001b[43mweight\u001b[49m\u001b[43m,\u001b[49m\u001b[43m \u001b[49m\u001b[43mbias\u001b[49m\u001b[43m,\u001b[49m\u001b[43m \u001b[49m\u001b[38;5;28;43mself\u001b[39;49m\u001b[38;5;241;43m.\u001b[39;49m\u001b[43mstride\u001b[49m\u001b[43m,\u001b[49m\n\u001b[1;32m    304\u001b[0m \u001b[43m                \u001b[49m\u001b[38;5;28;43mself\u001b[39;49m\u001b[38;5;241;43m.\u001b[39;49m\u001b[43mpadding\u001b[49m\u001b[43m,\u001b[49m\u001b[43m \u001b[49m\u001b[38;5;28;43mself\u001b[39;49m\u001b[38;5;241;43m.\u001b[39;49m\u001b[43mdilation\u001b[49m\u001b[43m,\u001b[49m\u001b[43m \u001b[49m\u001b[38;5;28;43mself\u001b[39;49m\u001b[38;5;241;43m.\u001b[39;49m\u001b[43mgroups\u001b[49m\u001b[43m)\u001b[49m\n",
      "\u001b[0;31mRuntimeError\u001b[0m: Given groups=1, weight of size [256, 4, 5], expected input[42244, 30, 4] to have 4 channels, but got 30 channels instead"
     ]
    }
   ],
   "source": [
    "\n",
    "# Define your neural network\n",
    "class SleepStagePredictionNet(nn.Module):\n",
    "    def __init__(self, num_features, num_classes):\n",
    "        super(SleepStagePredictionNet, self).__init__()\n",
    "        \n",
    "        self.conv1 = nn.Conv1d(num_features, 256, kernel_size=5, stride=1, padding=2)  # 'same' padding\n",
    "        self.pool1 = nn.MaxPool1d(kernel_size=5, stride=2, padding=2)  # 'same' padding\n",
    "        \n",
    "        self.conv2 = nn.Conv1d(256, 256, kernel_size=5, stride=1, padding=2)  # 'same' padding\n",
    "        self.pool2 = nn.MaxPool1d(kernel_size=5, stride=2, padding=2)  # 'same' padding\n",
    "        \n",
    "        self.conv3 = nn.Conv1d(256, 128, kernel_size=5, stride=1, padding=2)  # 'same' padding\n",
    "        self.pool3 = nn.MaxPool1d(kernel_size=5, stride=2, padding=2)  # 'same' padding\n",
    "        self.dropout1 = nn.Dropout(0.2)\n",
    "        \n",
    "        self.conv4 = nn.Conv1d(128, 64, kernel_size=5, stride=1, padding=2)  # 'same' padding\n",
    "        self.pool4 = nn.MaxPool1d(kernel_size=5, stride=2, padding=2)  # 'same' padding\n",
    "        \n",
    "        self.flatten = nn.Flatten()\n",
    "        self.fc1 = nn.Linear(64 * 94, 32)  # Adjust input size based on the output size of the previous layer\n",
    "        self.dropout2 = nn.Dropout(0.3)\n",
    "        self.fc2 = nn.Linear(32, num_classes)\n",
    "    \n",
    "    def forward(self, x):\n",
    "        x = torch.relu(self.conv1(x))\n",
    "        x = self.pool1(x)\n",
    "        x = torch.relu(self.conv2(x))\n",
    "        x = self.pool2(x)\n",
    "        x = torch.relu(self.conv3(x))\n",
    "        x = self.pool3(x)\n",
    "        x = self.dropout1(x)\n",
    "        x = torch.relu(self.conv4(x))\n",
    "        x = self.pool4(x)\n",
    "        x = self.flatten(x)\n",
    "        x = torch.relu(self.fc1(x))\n",
    "        x = self.dropout2(x)\n",
    "        x = self.fc2(x)\n",
    "        return x\n",
    "\n",
    "# Create an instance of the model\n",
    "model = SleepStagePredictionNet(num_features, num_classes)\n",
    "\n",
    "# Define loss function\n",
    "criterion = nn.CrossEntropyLoss()\n",
    "\n",
    "# Define optimizer\n",
    "optimizer = torch.optim.Adam(model.parameters(), lr=0.001)\n",
    "\n",
    "\n",
    "\n",
    "# Training loop (assuming you have separate training and validation data)\n",
    "num_epochs = 10  # Adjust as needed\n",
    "\n",
    "for epoch in range(num_epochs):\n",
    "    # Forward pass\n",
    "    outputs = model(features_tensor)\n",
    "    \n",
    "    # Convert one-hot encoded labels tensor to class indices\n",
    "    class_indices = torch.argmax(labels_tensor, dim=1)\n",
    "    \n",
    "    # Compute loss using class indices\n",
    "    loss = criterion(outputs, class_indices)\n",
    "    \n",
    "    # Backward pass and optimization\n",
    "    optimizer.zero_grad()\n",
    "    loss.backward()\n",
    "    optimizer.step()\n",
    "    \n",
    "    # Print loss (optional)\n",
    "    print('Epoch [{}/{}], Loss: {:.4f}'.format(epoch+1, num_epochs, loss.item()))"
   ]
  },
  {
   "cell_type": "code",
   "execution_count": 48,
   "id": "1f521c20-30cb-48e0-bcbb-9fa4ad7b4a97",
   "metadata": {
    "tags": []
   },
   "outputs": [
    {
     "data": {
      "text/plain": [
       "torch.Size([42244, 30, 4])"
      ]
     },
     "execution_count": 48,
     "metadata": {},
     "output_type": "execute_result"
    }
   ],
   "source": [
    "features_tensor.shape"
   ]
  },
  {
   "cell_type": "code",
   "execution_count": 50,
   "id": "f938d3a5-0b71-410c-9e17-4189d9a3e17f",
   "metadata": {
    "tags": []
   },
   "outputs": [
    {
     "data": {
      "text/plain": [
       "torch.Size([1267327, 6])"
      ]
     },
     "execution_count": 50,
     "metadata": {},
     "output_type": "execute_result"
    }
   ],
   "source": [
    "labels_tensor.shape"
   ]
  },
  {
   "cell_type": "code",
   "execution_count": 75,
   "id": "f5958379-c9fd-4914-b458-027ec10a5c92",
   "metadata": {
    "tags": []
   },
   "outputs": [],
   "source": [
    "class_indices = torch.argmax(labels_tensor, dim=1)"
   ]
  },
  {
   "cell_type": "code",
   "execution_count": 77,
   "id": "11b9fe78-e896-4e60-9319-30e9cbd1c13f",
   "metadata": {
    "tags": []
   },
   "outputs": [
    {
     "data": {
      "text/plain": [
       "tensor(5)"
      ]
     },
     "execution_count": 77,
     "metadata": {},
     "output_type": "execute_result"
    }
   ],
   "source": [
    "class_indices[2000]"
   ]
  },
  {
   "cell_type": "code",
   "execution_count": 86,
   "id": "0f61f789-93ea-4fbb-9d37-df3a74b0a936",
   "metadata": {
    "tags": []
   },
   "outputs": [],
   "source": [
    "# Define your neural network\n",
    "class SleepStagePredictionNet(nn.Module):\n",
    "    def __init__(self, num_channels, num_classes):\n",
    "        super(SleepStagePredictionNet, self).__init__()\n",
    "        \n",
    "        self.conv1 = nn.Conv1d(num_channels, 256, kernel_size=5, stride=1, padding=2)  # 'same' padding\n",
    "        self.pool1 = nn.MaxPool1d(kernel_size=5, stride=2, padding=2)  # 'same' padding\n",
    "        \n",
    "        self.conv2 = nn.Conv1d(256, 256, kernel_size=5, stride=1, padding=2)  # 'same' padding\n",
    "        self.pool2 = nn.MaxPool1d(kernel_size=5, stride=2, padding=2)  # 'same' padding\n",
    "        \n",
    "        self.conv3 = nn.Conv1d(256, 128, kernel_size=5, stride=1, padding=2)  # 'same' padding\n",
    "        self.pool3 = nn.MaxPool1d(kernel_size=5, stride=2, padding=2)  # 'same' padding\n",
    "        self.dropout1 = nn.Dropout(0.2)\n",
    "        \n",
    "        self.conv4 = nn.Conv1d(128, 64, kernel_size=5, stride=1, padding=2)  # 'same' padding\n",
    "        self.pool4 = nn.MaxPool1d(kernel_size=5, stride=2, padding=2)  # 'same' padding\n",
    "        \n",
    "        self.flatten = nn.Flatten()\n",
    "        self.fc1 = nn.Linear(64 * 94, 32)  # Adjust input size based on the output size of the previous layer\n",
    "        self.dropout2 = nn.Dropout(0.3)\n",
    "        self.fc2 = nn.Linear(32, num_classes)\n",
    "    \n",
    "    def forward(self, x):\n",
    "        x = torch.relu(self.conv1(x))\n",
    "        x = self.pool1(x)\n",
    "        x = torch.relu(self.conv2(x))\n",
    "        x = self.pool2(x)\n",
    "        x = torch.relu(self.conv3(x))\n",
    "        x = self.pool3(x)\n",
    "        x = self.dropout1(x)\n",
    "        x = torch.relu(self.conv4(x))\n",
    "        x = self.pool4(x)\n",
    "        x = self.flatten(x)\n",
    "        x = torch.relu(self.fc1(x))\n",
    "        x = self.dropout2(x)\n",
    "        x = self.fc2(x)\n",
    "        return x\n",
    "\n",
    "# Create an instance of the model\n",
    "model = SleepStagePredictionNet(num_channels=4, num_classes=num_classes)\n"
   ]
  },
  {
   "cell_type": "code",
   "execution_count": 87,
   "id": "37af2b48-c502-451d-887c-09a0c103362b",
   "metadata": {
    "tags": []
   },
   "outputs": [
    {
     "ename": "RuntimeError",
     "evalue": "mat1 and mat2 shapes cannot be multiplied (42244x128 and 6016x32)",
     "output_type": "error",
     "traceback": [
      "\u001b[0;31m---------------------------------------------------------------------------\u001b[0m",
      "\u001b[0;31mRuntimeError\u001b[0m                              Traceback (most recent call last)",
      "Input \u001b[0;32mIn [87]\u001b[0m, in \u001b[0;36m<cell line: 12>\u001b[0;34m()\u001b[0m\n\u001b[1;32m     10\u001b[0m num_epochs \u001b[38;5;241m=\u001b[39m \u001b[38;5;241m10\u001b[39m  \u001b[38;5;66;03m# Adjust as needed\u001b[39;00m\n\u001b[1;32m     12\u001b[0m \u001b[38;5;28;01mfor\u001b[39;00m epoch \u001b[38;5;129;01min\u001b[39;00m \u001b[38;5;28mrange\u001b[39m(num_epochs):\n\u001b[1;32m     13\u001b[0m     \u001b[38;5;66;03m# Forward pass\u001b[39;00m\n\u001b[0;32m---> 14\u001b[0m     outputs \u001b[38;5;241m=\u001b[39m \u001b[43mmodel\u001b[49m\u001b[43m(\u001b[49m\u001b[43mfeatures_tensor\u001b[49m\u001b[43m)\u001b[49m\n\u001b[1;32m     16\u001b[0m     \u001b[38;5;66;03m# Convert one-hot encoded labels tensor to class indices\u001b[39;00m\n\u001b[1;32m     17\u001b[0m     class_indices \u001b[38;5;241m=\u001b[39m torch\u001b[38;5;241m.\u001b[39margmax(labels_tensor, dim\u001b[38;5;241m=\u001b[39m\u001b[38;5;241m1\u001b[39m)\n",
      "File \u001b[0;32m/opt/nesi/CS400_centos7_bdw/PyTorch/1.12.1-gimkl-2022a-Python-3.10.5-CUDA-11.6.2/lib/python3.10/site-packages/torch/nn/modules/module.py:1130\u001b[0m, in \u001b[0;36mModule._call_impl\u001b[0;34m(self, *input, **kwargs)\u001b[0m\n\u001b[1;32m   1126\u001b[0m \u001b[38;5;66;03m# If we don't have any hooks, we want to skip the rest of the logic in\u001b[39;00m\n\u001b[1;32m   1127\u001b[0m \u001b[38;5;66;03m# this function, and just call forward.\u001b[39;00m\n\u001b[1;32m   1128\u001b[0m \u001b[38;5;28;01mif\u001b[39;00m \u001b[38;5;129;01mnot\u001b[39;00m (\u001b[38;5;28mself\u001b[39m\u001b[38;5;241m.\u001b[39m_backward_hooks \u001b[38;5;129;01mor\u001b[39;00m \u001b[38;5;28mself\u001b[39m\u001b[38;5;241m.\u001b[39m_forward_hooks \u001b[38;5;129;01mor\u001b[39;00m \u001b[38;5;28mself\u001b[39m\u001b[38;5;241m.\u001b[39m_forward_pre_hooks \u001b[38;5;129;01mor\u001b[39;00m _global_backward_hooks\n\u001b[1;32m   1129\u001b[0m         \u001b[38;5;129;01mor\u001b[39;00m _global_forward_hooks \u001b[38;5;129;01mor\u001b[39;00m _global_forward_pre_hooks):\n\u001b[0;32m-> 1130\u001b[0m     \u001b[38;5;28;01mreturn\u001b[39;00m \u001b[43mforward_call\u001b[49m\u001b[43m(\u001b[49m\u001b[38;5;241;43m*\u001b[39;49m\u001b[38;5;28;43minput\u001b[39;49m\u001b[43m,\u001b[49m\u001b[43m \u001b[49m\u001b[38;5;241;43m*\u001b[39;49m\u001b[38;5;241;43m*\u001b[39;49m\u001b[43mkwargs\u001b[49m\u001b[43m)\u001b[49m\n\u001b[1;32m   1131\u001b[0m \u001b[38;5;66;03m# Do not call functions when jit is used\u001b[39;00m\n\u001b[1;32m   1132\u001b[0m full_backward_hooks, non_full_backward_hooks \u001b[38;5;241m=\u001b[39m [], []\n",
      "Input \u001b[0;32mIn [86]\u001b[0m, in \u001b[0;36mSleepStagePredictionNet.forward\u001b[0;34m(self, x)\u001b[0m\n\u001b[1;32m     33\u001b[0m x \u001b[38;5;241m=\u001b[39m \u001b[38;5;28mself\u001b[39m\u001b[38;5;241m.\u001b[39mpool4(x)\n\u001b[1;32m     34\u001b[0m x \u001b[38;5;241m=\u001b[39m \u001b[38;5;28mself\u001b[39m\u001b[38;5;241m.\u001b[39mflatten(x)\n\u001b[0;32m---> 35\u001b[0m x \u001b[38;5;241m=\u001b[39m torch\u001b[38;5;241m.\u001b[39mrelu(\u001b[38;5;28;43mself\u001b[39;49m\u001b[38;5;241;43m.\u001b[39;49m\u001b[43mfc1\u001b[49m\u001b[43m(\u001b[49m\u001b[43mx\u001b[49m\u001b[43m)\u001b[49m)\n\u001b[1;32m     36\u001b[0m x \u001b[38;5;241m=\u001b[39m \u001b[38;5;28mself\u001b[39m\u001b[38;5;241m.\u001b[39mdropout2(x)\n\u001b[1;32m     37\u001b[0m x \u001b[38;5;241m=\u001b[39m \u001b[38;5;28mself\u001b[39m\u001b[38;5;241m.\u001b[39mfc2(x)\n",
      "File \u001b[0;32m/opt/nesi/CS400_centos7_bdw/PyTorch/1.12.1-gimkl-2022a-Python-3.10.5-CUDA-11.6.2/lib/python3.10/site-packages/torch/nn/modules/module.py:1130\u001b[0m, in \u001b[0;36mModule._call_impl\u001b[0;34m(self, *input, **kwargs)\u001b[0m\n\u001b[1;32m   1126\u001b[0m \u001b[38;5;66;03m# If we don't have any hooks, we want to skip the rest of the logic in\u001b[39;00m\n\u001b[1;32m   1127\u001b[0m \u001b[38;5;66;03m# this function, and just call forward.\u001b[39;00m\n\u001b[1;32m   1128\u001b[0m \u001b[38;5;28;01mif\u001b[39;00m \u001b[38;5;129;01mnot\u001b[39;00m (\u001b[38;5;28mself\u001b[39m\u001b[38;5;241m.\u001b[39m_backward_hooks \u001b[38;5;129;01mor\u001b[39;00m \u001b[38;5;28mself\u001b[39m\u001b[38;5;241m.\u001b[39m_forward_hooks \u001b[38;5;129;01mor\u001b[39;00m \u001b[38;5;28mself\u001b[39m\u001b[38;5;241m.\u001b[39m_forward_pre_hooks \u001b[38;5;129;01mor\u001b[39;00m _global_backward_hooks\n\u001b[1;32m   1129\u001b[0m         \u001b[38;5;129;01mor\u001b[39;00m _global_forward_hooks \u001b[38;5;129;01mor\u001b[39;00m _global_forward_pre_hooks):\n\u001b[0;32m-> 1130\u001b[0m     \u001b[38;5;28;01mreturn\u001b[39;00m \u001b[43mforward_call\u001b[49m\u001b[43m(\u001b[49m\u001b[38;5;241;43m*\u001b[39;49m\u001b[38;5;28;43minput\u001b[39;49m\u001b[43m,\u001b[49m\u001b[43m \u001b[49m\u001b[38;5;241;43m*\u001b[39;49m\u001b[38;5;241;43m*\u001b[39;49m\u001b[43mkwargs\u001b[49m\u001b[43m)\u001b[49m\n\u001b[1;32m   1131\u001b[0m \u001b[38;5;66;03m# Do not call functions when jit is used\u001b[39;00m\n\u001b[1;32m   1132\u001b[0m full_backward_hooks, non_full_backward_hooks \u001b[38;5;241m=\u001b[39m [], []\n",
      "File \u001b[0;32m/opt/nesi/CS400_centos7_bdw/PyTorch/1.12.1-gimkl-2022a-Python-3.10.5-CUDA-11.6.2/lib/python3.10/site-packages/torch/nn/modules/linear.py:114\u001b[0m, in \u001b[0;36mLinear.forward\u001b[0;34m(self, input)\u001b[0m\n\u001b[1;32m    113\u001b[0m \u001b[38;5;28;01mdef\u001b[39;00m \u001b[38;5;21mforward\u001b[39m(\u001b[38;5;28mself\u001b[39m, \u001b[38;5;28minput\u001b[39m: Tensor) \u001b[38;5;241m-\u001b[39m\u001b[38;5;241m>\u001b[39m Tensor:\n\u001b[0;32m--> 114\u001b[0m     \u001b[38;5;28;01mreturn\u001b[39;00m \u001b[43mF\u001b[49m\u001b[38;5;241;43m.\u001b[39;49m\u001b[43mlinear\u001b[49m\u001b[43m(\u001b[49m\u001b[38;5;28;43minput\u001b[39;49m\u001b[43m,\u001b[49m\u001b[43m \u001b[49m\u001b[38;5;28;43mself\u001b[39;49m\u001b[38;5;241;43m.\u001b[39;49m\u001b[43mweight\u001b[49m\u001b[43m,\u001b[49m\u001b[43m \u001b[49m\u001b[38;5;28;43mself\u001b[39;49m\u001b[38;5;241;43m.\u001b[39;49m\u001b[43mbias\u001b[49m\u001b[43m)\u001b[49m\n",
      "\u001b[0;31mRuntimeError\u001b[0m: mat1 and mat2 shapes cannot be multiplied (42244x128 and 6016x32)"
     ]
    }
   ],
   "source": [
    "# Define loss function\n",
    "criterion = nn.CrossEntropyLoss()\n",
    "\n",
    "# Define optimizer\n",
    "optimizer = torch.optim.Adam(model.parameters(), lr=0.001)\n",
    "\n",
    "\n",
    "\n",
    "# Training loop (assuming you have separate training and validation data)\n",
    "num_epochs = 10  # Adjust as needed\n",
    "\n",
    "for epoch in range(num_epochs):\n",
    "    # Forward pass\n",
    "    outputs = model(features_tensor)\n",
    "    \n",
    "    # Convert one-hot encoded labels tensor to class indices\n",
    "    class_indices = torch.argmax(labels_tensor, dim=1)\n",
    "    \n",
    "    # Compute loss using class indices\n",
    "    loss = criterion(outputs, class_indices)\n",
    "    \n",
    "    # Backward pass and optimization\n",
    "    optimizer.zero_grad()\n",
    "    loss.backward()\n",
    "    optimizer.step()\n",
    "    \n",
    "    # Print loss (optional)\n",
    "    print('Epoch [{}/{}], Loss: {:.4f}'.format(epoch+1, num_epochs, loss.item()))"
   ]
  },
  {
   "cell_type": "code",
   "execution_count": 84,
   "id": "b7034ddb-27a6-43d6-ab6a-a1caafc7570a",
   "metadata": {
    "tags": []
   },
   "outputs": [],
   "source": [
    "features_tensor = features_tensor.permute(0, 2, 1)"
   ]
  },
  {
   "cell_type": "code",
   "execution_count": 1,
   "id": "c7bed3d6-9039-497a-b115-2ace2ef552db",
   "metadata": {},
   "outputs": [],
   "source": [
    "import tensorflow as tf"
   ]
  },
  {
   "cell_type": "code",
   "execution_count": 2,
   "id": "d50359ab-9cdf-4820-882a-953be1c0d12d",
   "metadata": {
    "tags": []
   },
   "outputs": [],
   "source": [
    "from tensorflow import keras"
   ]
  },
  {
   "cell_type": "code",
   "execution_count": 3,
   "id": "41aaf4be-93c8-465b-81a7-c1d41e2e860f",
   "metadata": {
    "tags": []
   },
   "outputs": [
    {
     "ename": "ImportError",
     "evalue": "cannot import name 'dtensor' from 'tensorflow.compat.v2.experimental' (/opt/nesi/CS400_centos7_bdw/TensorFlow/2.8.2-gimkl-2022a-Python-3.10.5/lib/python3.10/site-packages/tensorflow/_api/v2/compat/v2/experimental/__init__.py)",
     "output_type": "error",
     "traceback": [
      "\u001b[0;31m---------------------------------------------------------------------------\u001b[0m",
      "\u001b[0;31mImportError\u001b[0m                               Traceback (most recent call last)",
      "Input \u001b[0;32mIn [3]\u001b[0m, in \u001b[0;36m<cell line: 1>\u001b[0;34m()\u001b[0m\n\u001b[0;32m----> 1\u001b[0m \u001b[38;5;28;01mfrom\u001b[39;00m \u001b[38;5;21;01mkeras\u001b[39;00m\u001b[38;5;21;01m.\u001b[39;00m\u001b[38;5;21;01mlayers\u001b[39;00m \u001b[38;5;28;01mimport\u001b[39;00m Dense\n",
      "File \u001b[0;32m~/.local/Python-3.10-gimkl-2022a/lib/python3.10/site-packages/keras/__init__.py:3\u001b[0m, in \u001b[0;36m<module>\u001b[0;34m\u001b[0m\n\u001b[1;32m      1\u001b[0m \u001b[38;5;124;03m\"\"\"AUTOGENERATED. DO NOT EDIT.\"\"\"\u001b[39;00m\n\u001b[0;32m----> 3\u001b[0m \u001b[38;5;28;01mfrom\u001b[39;00m \u001b[38;5;21;01mkeras\u001b[39;00m \u001b[38;5;28;01mimport\u001b[39;00m __internal__\n\u001b[1;32m      4\u001b[0m \u001b[38;5;28;01mfrom\u001b[39;00m \u001b[38;5;21;01mkeras\u001b[39;00m \u001b[38;5;28;01mimport\u001b[39;00m activations\n\u001b[1;32m      5\u001b[0m \u001b[38;5;28;01mfrom\u001b[39;00m \u001b[38;5;21;01mkeras\u001b[39;00m \u001b[38;5;28;01mimport\u001b[39;00m applications\n",
      "File \u001b[0;32m~/.local/Python-3.10-gimkl-2022a/lib/python3.10/site-packages/keras/__internal__/__init__.py:3\u001b[0m, in \u001b[0;36m<module>\u001b[0;34m\u001b[0m\n\u001b[1;32m      1\u001b[0m \u001b[38;5;124;03m\"\"\"AUTOGENERATED. DO NOT EDIT.\"\"\"\u001b[39;00m\n\u001b[0;32m----> 3\u001b[0m \u001b[38;5;28;01mfrom\u001b[39;00m \u001b[38;5;21;01mkeras\u001b[39;00m\u001b[38;5;21;01m.\u001b[39;00m\u001b[38;5;21;01m__internal__\u001b[39;00m \u001b[38;5;28;01mimport\u001b[39;00m backend\n\u001b[1;32m      4\u001b[0m \u001b[38;5;28;01mfrom\u001b[39;00m \u001b[38;5;21;01mkeras\u001b[39;00m\u001b[38;5;21;01m.\u001b[39;00m\u001b[38;5;21;01m__internal__\u001b[39;00m \u001b[38;5;28;01mimport\u001b[39;00m layers\n\u001b[1;32m      5\u001b[0m \u001b[38;5;28;01mfrom\u001b[39;00m \u001b[38;5;21;01mkeras\u001b[39;00m\u001b[38;5;21;01m.\u001b[39;00m\u001b[38;5;21;01m__internal__\u001b[39;00m \u001b[38;5;28;01mimport\u001b[39;00m losses\n",
      "File \u001b[0;32m~/.local/Python-3.10-gimkl-2022a/lib/python3.10/site-packages/keras/__internal__/backend/__init__.py:3\u001b[0m, in \u001b[0;36m<module>\u001b[0;34m\u001b[0m\n\u001b[1;32m      1\u001b[0m \u001b[38;5;124;03m\"\"\"AUTOGENERATED. DO NOT EDIT.\"\"\"\u001b[39;00m\n\u001b[0;32m----> 3\u001b[0m \u001b[38;5;28;01mfrom\u001b[39;00m \u001b[38;5;21;01mkeras\u001b[39;00m\u001b[38;5;21;01m.\u001b[39;00m\u001b[38;5;21;01msrc\u001b[39;00m\u001b[38;5;21;01m.\u001b[39;00m\u001b[38;5;21;01mbackend\u001b[39;00m \u001b[38;5;28;01mimport\u001b[39;00m _initialize_variables \u001b[38;5;28;01mas\u001b[39;00m initialize_variables\n\u001b[1;32m      4\u001b[0m \u001b[38;5;28;01mfrom\u001b[39;00m \u001b[38;5;21;01mkeras\u001b[39;00m\u001b[38;5;21;01m.\u001b[39;00m\u001b[38;5;21;01msrc\u001b[39;00m\u001b[38;5;21;01m.\u001b[39;00m\u001b[38;5;21;01mbackend\u001b[39;00m \u001b[38;5;28;01mimport\u001b[39;00m track_variable\n",
      "File \u001b[0;32m~/.local/Python-3.10-gimkl-2022a/lib/python3.10/site-packages/keras/src/__init__.py:21\u001b[0m, in \u001b[0;36m<module>\u001b[0;34m\u001b[0m\n\u001b[1;32m     15\u001b[0m \u001b[38;5;124;03m\"\"\"Implementation of the Keras API, the high-level API of TensorFlow.\u001b[39;00m\n\u001b[1;32m     16\u001b[0m \n\u001b[1;32m     17\u001b[0m \u001b[38;5;124;03mDetailed documentation and user guides are available at\u001b[39;00m\n\u001b[1;32m     18\u001b[0m \u001b[38;5;124;03m[keras.io](https://keras.io).\u001b[39;00m\n\u001b[1;32m     19\u001b[0m \u001b[38;5;124;03m\"\"\"\u001b[39;00m\n\u001b[1;32m     20\u001b[0m \u001b[38;5;28;01mfrom\u001b[39;00m \u001b[38;5;21;01mkeras\u001b[39;00m\u001b[38;5;21;01m.\u001b[39;00m\u001b[38;5;21;01msrc\u001b[39;00m \u001b[38;5;28;01mimport\u001b[39;00m distribute\n\u001b[0;32m---> 21\u001b[0m \u001b[38;5;28;01mfrom\u001b[39;00m \u001b[38;5;21;01mkeras\u001b[39;00m\u001b[38;5;21;01m.\u001b[39;00m\u001b[38;5;21;01msrc\u001b[39;00m \u001b[38;5;28;01mimport\u001b[39;00m models\n\u001b[1;32m     22\u001b[0m \u001b[38;5;28;01mfrom\u001b[39;00m \u001b[38;5;21;01mkeras\u001b[39;00m\u001b[38;5;21;01m.\u001b[39;00m\u001b[38;5;21;01msrc\u001b[39;00m\u001b[38;5;21;01m.\u001b[39;00m\u001b[38;5;21;01mengine\u001b[39;00m\u001b[38;5;21;01m.\u001b[39;00m\u001b[38;5;21;01minput_layer\u001b[39;00m \u001b[38;5;28;01mimport\u001b[39;00m Input\n\u001b[1;32m     23\u001b[0m \u001b[38;5;28;01mfrom\u001b[39;00m \u001b[38;5;21;01mkeras\u001b[39;00m\u001b[38;5;21;01m.\u001b[39;00m\u001b[38;5;21;01msrc\u001b[39;00m\u001b[38;5;21;01m.\u001b[39;00m\u001b[38;5;21;01mengine\u001b[39;00m\u001b[38;5;21;01m.\u001b[39;00m\u001b[38;5;21;01msequential\u001b[39;00m \u001b[38;5;28;01mimport\u001b[39;00m Sequential\n",
      "File \u001b[0;32m~/.local/Python-3.10-gimkl-2022a/lib/python3.10/site-packages/keras/src/models/__init__.py:18\u001b[0m, in \u001b[0;36m<module>\u001b[0;34m\u001b[0m\n\u001b[1;32m      1\u001b[0m \u001b[38;5;66;03m# Copyright 2022 The TensorFlow Authors. All Rights Reserved.\u001b[39;00m\n\u001b[1;32m      2\u001b[0m \u001b[38;5;66;03m#\u001b[39;00m\n\u001b[1;32m      3\u001b[0m \u001b[38;5;66;03m# Licensed under the Apache License, Version 2.0 (the \"License\");\u001b[39;00m\n\u001b[0;32m   (...)\u001b[0m\n\u001b[1;32m     13\u001b[0m \u001b[38;5;66;03m# limitations under the License.\u001b[39;00m\n\u001b[1;32m     14\u001b[0m \u001b[38;5;66;03m# ==============================================================================\u001b[39;00m\n\u001b[1;32m     15\u001b[0m \u001b[38;5;124;03m\"\"\"Keras models API.\"\"\"\u001b[39;00m\n\u001b[0;32m---> 18\u001b[0m \u001b[38;5;28;01mfrom\u001b[39;00m \u001b[38;5;21;01mkeras\u001b[39;00m\u001b[38;5;21;01m.\u001b[39;00m\u001b[38;5;21;01msrc\u001b[39;00m\u001b[38;5;21;01m.\u001b[39;00m\u001b[38;5;21;01mengine\u001b[39;00m\u001b[38;5;21;01m.\u001b[39;00m\u001b[38;5;21;01mfunctional\u001b[39;00m \u001b[38;5;28;01mimport\u001b[39;00m Functional\n\u001b[1;32m     19\u001b[0m \u001b[38;5;28;01mfrom\u001b[39;00m \u001b[38;5;21;01mkeras\u001b[39;00m\u001b[38;5;21;01m.\u001b[39;00m\u001b[38;5;21;01msrc\u001b[39;00m\u001b[38;5;21;01m.\u001b[39;00m\u001b[38;5;21;01mengine\u001b[39;00m\u001b[38;5;21;01m.\u001b[39;00m\u001b[38;5;21;01msequential\u001b[39;00m \u001b[38;5;28;01mimport\u001b[39;00m Sequential\n\u001b[1;32m     20\u001b[0m \u001b[38;5;28;01mfrom\u001b[39;00m \u001b[38;5;21;01mkeras\u001b[39;00m\u001b[38;5;21;01m.\u001b[39;00m\u001b[38;5;21;01msrc\u001b[39;00m\u001b[38;5;21;01m.\u001b[39;00m\u001b[38;5;21;01mengine\u001b[39;00m\u001b[38;5;21;01m.\u001b[39;00m\u001b[38;5;21;01mtraining\u001b[39;00m \u001b[38;5;28;01mimport\u001b[39;00m Model\n",
      "File \u001b[0;32m~/.local/Python-3.10-gimkl-2022a/lib/python3.10/site-packages/keras/src/engine/functional.py:25\u001b[0m, in \u001b[0;36m<module>\u001b[0;34m\u001b[0m\n\u001b[1;32m     21\u001b[0m \u001b[38;5;28;01mimport\u001b[39;00m \u001b[38;5;21;01mwarnings\u001b[39;00m\n\u001b[1;32m     23\u001b[0m \u001b[38;5;28;01mimport\u001b[39;00m \u001b[38;5;21;01mtensorflow\u001b[39;00m\u001b[38;5;21;01m.\u001b[39;00m\u001b[38;5;21;01mcompat\u001b[39;00m\u001b[38;5;21;01m.\u001b[39;00m\u001b[38;5;21;01mv2\u001b[39;00m \u001b[38;5;28;01mas\u001b[39;00m \u001b[38;5;21;01mtf\u001b[39;00m\n\u001b[0;32m---> 25\u001b[0m \u001b[38;5;28;01mfrom\u001b[39;00m \u001b[38;5;21;01mkeras\u001b[39;00m\u001b[38;5;21;01m.\u001b[39;00m\u001b[38;5;21;01msrc\u001b[39;00m \u001b[38;5;28;01mimport\u001b[39;00m backend\n\u001b[1;32m     26\u001b[0m \u001b[38;5;28;01mfrom\u001b[39;00m \u001b[38;5;21;01mkeras\u001b[39;00m\u001b[38;5;21;01m.\u001b[39;00m\u001b[38;5;21;01msrc\u001b[39;00m\u001b[38;5;21;01m.\u001b[39;00m\u001b[38;5;21;01mdtensor\u001b[39;00m \u001b[38;5;28;01mimport\u001b[39;00m layout_map \u001b[38;5;28;01mas\u001b[39;00m layout_map_lib\n\u001b[1;32m     27\u001b[0m \u001b[38;5;28;01mfrom\u001b[39;00m \u001b[38;5;21;01mkeras\u001b[39;00m\u001b[38;5;21;01m.\u001b[39;00m\u001b[38;5;21;01msrc\u001b[39;00m\u001b[38;5;21;01m.\u001b[39;00m\u001b[38;5;21;01mengine\u001b[39;00m \u001b[38;5;28;01mimport\u001b[39;00m base_layer\n",
      "File \u001b[0;32m~/.local/Python-3.10-gimkl-2022a/lib/python3.10/site-packages/keras/src/backend.py:34\u001b[0m, in \u001b[0;36m<module>\u001b[0;34m\u001b[0m\n\u001b[1;32m     32\u001b[0m \u001b[38;5;28;01mfrom\u001b[39;00m \u001b[38;5;21;01mkeras\u001b[39;00m\u001b[38;5;21;01m.\u001b[39;00m\u001b[38;5;21;01msrc\u001b[39;00m \u001b[38;5;28;01mimport\u001b[39;00m backend_config\n\u001b[1;32m     33\u001b[0m \u001b[38;5;28;01mfrom\u001b[39;00m \u001b[38;5;21;01mkeras\u001b[39;00m\u001b[38;5;21;01m.\u001b[39;00m\u001b[38;5;21;01msrc\u001b[39;00m\u001b[38;5;21;01m.\u001b[39;00m\u001b[38;5;21;01mdistribute\u001b[39;00m \u001b[38;5;28;01mimport\u001b[39;00m distribute_coordinator_utils \u001b[38;5;28;01mas\u001b[39;00m dc\n\u001b[0;32m---> 34\u001b[0m \u001b[38;5;28;01mfrom\u001b[39;00m \u001b[38;5;21;01mkeras\u001b[39;00m\u001b[38;5;21;01m.\u001b[39;00m\u001b[38;5;21;01msrc\u001b[39;00m\u001b[38;5;21;01m.\u001b[39;00m\u001b[38;5;21;01mdtensor\u001b[39;00m \u001b[38;5;28;01mimport\u001b[39;00m dtensor_api \u001b[38;5;28;01mas\u001b[39;00m dtensor\n\u001b[1;32m     35\u001b[0m \u001b[38;5;28;01mfrom\u001b[39;00m \u001b[38;5;21;01mkeras\u001b[39;00m\u001b[38;5;21;01m.\u001b[39;00m\u001b[38;5;21;01msrc\u001b[39;00m\u001b[38;5;21;01m.\u001b[39;00m\u001b[38;5;21;01mengine\u001b[39;00m \u001b[38;5;28;01mimport\u001b[39;00m keras_tensor\n\u001b[1;32m     36\u001b[0m \u001b[38;5;28;01mfrom\u001b[39;00m \u001b[38;5;21;01mkeras\u001b[39;00m\u001b[38;5;21;01m.\u001b[39;00m\u001b[38;5;21;01msrc\u001b[39;00m\u001b[38;5;21;01m.\u001b[39;00m\u001b[38;5;21;01mutils\u001b[39;00m \u001b[38;5;28;01mimport\u001b[39;00m control_flow_util\n",
      "File \u001b[0;32m~/.local/Python-3.10-gimkl-2022a/lib/python3.10/site-packages/keras/src/dtensor/__init__.py:22\u001b[0m, in \u001b[0;36m<module>\u001b[0;34m\u001b[0m\n\u001b[1;32m     20\u001b[0m \u001b[38;5;66;03m# Conditional import the dtensor API, since it is currently broken in OSS.\u001b[39;00m\n\u001b[1;32m     21\u001b[0m \u001b[38;5;28;01mif\u001b[39;00m _DTENSOR_API_ENABLED:\n\u001b[0;32m---> 22\u001b[0m     \u001b[38;5;28;01mfrom\u001b[39;00m \u001b[38;5;21;01mtensorflow\u001b[39;00m\u001b[38;5;21;01m.\u001b[39;00m\u001b[38;5;21;01mcompat\u001b[39;00m\u001b[38;5;21;01m.\u001b[39;00m\u001b[38;5;21;01mv2\u001b[39;00m\u001b[38;5;21;01m.\u001b[39;00m\u001b[38;5;21;01mexperimental\u001b[39;00m \u001b[38;5;28;01mimport\u001b[39;00m dtensor \u001b[38;5;28;01mas\u001b[39;00m dtensor_api\n\u001b[1;32m     23\u001b[0m \u001b[38;5;28;01melse\u001b[39;00m:\n\u001b[1;32m     24\u001b[0m     \u001b[38;5;66;03m# Leave it with a placeholder, so that the import line from other python\u001b[39;00m\n\u001b[1;32m     25\u001b[0m     \u001b[38;5;66;03m# file will not break.\u001b[39;00m\n\u001b[1;32m     26\u001b[0m     dtensor_api \u001b[38;5;241m=\u001b[39m \u001b[38;5;28;01mNone\u001b[39;00m\n",
      "\u001b[0;31mImportError\u001b[0m: cannot import name 'dtensor' from 'tensorflow.compat.v2.experimental' (/opt/nesi/CS400_centos7_bdw/TensorFlow/2.8.2-gimkl-2022a-Python-3.10.5/lib/python3.10/site-packages/tensorflow/_api/v2/compat/v2/experimental/__init__.py)"
     ]
    }
   ],
   "source": [
    "from keras.layers import Dense\n"
   ]
  },
  {
   "cell_type": "code",
   "execution_count": null,
   "id": "81abee96-d49f-411e-9ea9-55b529fc76d3",
   "metadata": {},
   "outputs": [],
   "source": []
  }
 ],
 "metadata": {
  "kernelspec": {
   "display_name": "tf_kernel",
   "language": "python",
   "name": "tf_kernel"
  },
  "language_info": {
   "codemirror_mode": {
    "name": "ipython",
    "version": 3
   },
   "file_extension": ".py",
   "mimetype": "text/x-python",
   "name": "python",
   "nbconvert_exporter": "python",
   "pygments_lexer": "ipython3",
   "version": "3.10.5"
  }
 },
 "nbformat": 4,
 "nbformat_minor": 5
}
